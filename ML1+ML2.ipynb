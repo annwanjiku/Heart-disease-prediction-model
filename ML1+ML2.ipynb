{
 "cells": [
  {
   "cell_type": "markdown",
   "id": "cb044d2a",
   "metadata": {},
   "source": [
    "PREDICTION OF HEART DISEASE MODEL"
   ]
  },
  {
   "cell_type": "markdown",
   "id": "4d1a137a",
   "metadata": {},
   "source": [
    "MODEL1 + MODEL2 "
   ]
  },
  {
   "cell_type": "markdown",
   "id": "6afbebf5",
   "metadata": {},
   "source": [
    "MODEL 1 WITH IMBALANCED DATA"
   ]
  },
  {
   "cell_type": "code",
   "execution_count": 1,
   "id": "4cd75818",
   "metadata": {},
   "outputs": [],
   "source": [
    "# Importing libraries and loading data\n",
    "import numpy as np\n",
    "import pandas as pd\n",
    "import matplotlib.pyplot as plt\n",
    "import seaborn as sns\n",
    "\n",
    "from sklearn.model_selection import train_test_split\n",
    "from sklearn.preprocessing import StandardScaler,OneHotEncoder,LabelEncoder\n",
    "from sklearn.metrics import accuracy_score,precision_score,recall_score,f1_score\n",
    "\n",
    "from sklearn.linear_model import LogisticRegression\n",
    "from sklearn.tree import DecisionTreeClassifier\n",
    "from sklearn.ensemble import RandomForestClassifier\n",
    "from sklearn.ensemble import GradientBoostingClassifier\n",
    "from sklearn.neural_network import MLPClassifier\n",
    "\n",
    "\n",
    "file_path = 'downloads/heart/heart_2020_cleaned.csv'\n",
    "df = pd.read_csv(file_path)"
   ]
  },
  {
   "cell_type": "code",
   "execution_count": 2,
   "id": "e528f412",
   "metadata": {},
   "outputs": [
    {
     "data": {
      "text/html": [
       "<div>\n",
       "<style scoped>\n",
       "    .dataframe tbody tr th:only-of-type {\n",
       "        vertical-align: middle;\n",
       "    }\n",
       "\n",
       "    .dataframe tbody tr th {\n",
       "        vertical-align: top;\n",
       "    }\n",
       "\n",
       "    .dataframe thead th {\n",
       "        text-align: right;\n",
       "    }\n",
       "</style>\n",
       "<table border=\"1\" class=\"dataframe\">\n",
       "  <thead>\n",
       "    <tr style=\"text-align: right;\">\n",
       "      <th></th>\n",
       "      <th>HeartDisease</th>\n",
       "      <th>BMI</th>\n",
       "      <th>Smoking</th>\n",
       "      <th>AlcoholDrinking</th>\n",
       "      <th>Stroke</th>\n",
       "      <th>PhysicalHealth</th>\n",
       "      <th>MentalHealth</th>\n",
       "      <th>DiffWalking</th>\n",
       "      <th>Sex</th>\n",
       "      <th>AgeCategory</th>\n",
       "      <th>Race</th>\n",
       "      <th>Diabetic</th>\n",
       "      <th>PhysicalActivity</th>\n",
       "      <th>GenHealth</th>\n",
       "      <th>SleepTime</th>\n",
       "      <th>Asthma</th>\n",
       "      <th>KidneyDisease</th>\n",
       "      <th>SkinCancer</th>\n",
       "    </tr>\n",
       "  </thead>\n",
       "  <tbody>\n",
       "    <tr>\n",
       "      <th>0</th>\n",
       "      <td>No</td>\n",
       "      <td>16.60</td>\n",
       "      <td>Yes</td>\n",
       "      <td>No</td>\n",
       "      <td>No</td>\n",
       "      <td>3</td>\n",
       "      <td>30</td>\n",
       "      <td>No</td>\n",
       "      <td>Female</td>\n",
       "      <td>55-59</td>\n",
       "      <td>White</td>\n",
       "      <td>Yes</td>\n",
       "      <td>Yes</td>\n",
       "      <td>Very good</td>\n",
       "      <td>5</td>\n",
       "      <td>Yes</td>\n",
       "      <td>No</td>\n",
       "      <td>Yes</td>\n",
       "    </tr>\n",
       "    <tr>\n",
       "      <th>1</th>\n",
       "      <td>No</td>\n",
       "      <td>20.34</td>\n",
       "      <td>No</td>\n",
       "      <td>No</td>\n",
       "      <td>Yes</td>\n",
       "      <td>0</td>\n",
       "      <td>0</td>\n",
       "      <td>No</td>\n",
       "      <td>Female</td>\n",
       "      <td>80 or older</td>\n",
       "      <td>White</td>\n",
       "      <td>No</td>\n",
       "      <td>Yes</td>\n",
       "      <td>Very good</td>\n",
       "      <td>7</td>\n",
       "      <td>No</td>\n",
       "      <td>No</td>\n",
       "      <td>No</td>\n",
       "    </tr>\n",
       "    <tr>\n",
       "      <th>2</th>\n",
       "      <td>No</td>\n",
       "      <td>26.58</td>\n",
       "      <td>Yes</td>\n",
       "      <td>No</td>\n",
       "      <td>No</td>\n",
       "      <td>20</td>\n",
       "      <td>30</td>\n",
       "      <td>No</td>\n",
       "      <td>Male</td>\n",
       "      <td>65-69</td>\n",
       "      <td>White</td>\n",
       "      <td>Yes</td>\n",
       "      <td>Yes</td>\n",
       "      <td>Fair</td>\n",
       "      <td>8</td>\n",
       "      <td>Yes</td>\n",
       "      <td>No</td>\n",
       "      <td>No</td>\n",
       "    </tr>\n",
       "    <tr>\n",
       "      <th>3</th>\n",
       "      <td>No</td>\n",
       "      <td>24.21</td>\n",
       "      <td>No</td>\n",
       "      <td>No</td>\n",
       "      <td>No</td>\n",
       "      <td>0</td>\n",
       "      <td>0</td>\n",
       "      <td>No</td>\n",
       "      <td>Female</td>\n",
       "      <td>75-79</td>\n",
       "      <td>White</td>\n",
       "      <td>No</td>\n",
       "      <td>No</td>\n",
       "      <td>Good</td>\n",
       "      <td>6</td>\n",
       "      <td>No</td>\n",
       "      <td>No</td>\n",
       "      <td>Yes</td>\n",
       "    </tr>\n",
       "    <tr>\n",
       "      <th>4</th>\n",
       "      <td>No</td>\n",
       "      <td>23.71</td>\n",
       "      <td>No</td>\n",
       "      <td>No</td>\n",
       "      <td>No</td>\n",
       "      <td>28</td>\n",
       "      <td>0</td>\n",
       "      <td>Yes</td>\n",
       "      <td>Female</td>\n",
       "      <td>40-44</td>\n",
       "      <td>White</td>\n",
       "      <td>No</td>\n",
       "      <td>Yes</td>\n",
       "      <td>Very good</td>\n",
       "      <td>8</td>\n",
       "      <td>No</td>\n",
       "      <td>No</td>\n",
       "      <td>No</td>\n",
       "    </tr>\n",
       "    <tr>\n",
       "      <th>...</th>\n",
       "      <td>...</td>\n",
       "      <td>...</td>\n",
       "      <td>...</td>\n",
       "      <td>...</td>\n",
       "      <td>...</td>\n",
       "      <td>...</td>\n",
       "      <td>...</td>\n",
       "      <td>...</td>\n",
       "      <td>...</td>\n",
       "      <td>...</td>\n",
       "      <td>...</td>\n",
       "      <td>...</td>\n",
       "      <td>...</td>\n",
       "      <td>...</td>\n",
       "      <td>...</td>\n",
       "      <td>...</td>\n",
       "      <td>...</td>\n",
       "      <td>...</td>\n",
       "    </tr>\n",
       "    <tr>\n",
       "      <th>319790</th>\n",
       "      <td>Yes</td>\n",
       "      <td>27.41</td>\n",
       "      <td>Yes</td>\n",
       "      <td>No</td>\n",
       "      <td>No</td>\n",
       "      <td>7</td>\n",
       "      <td>0</td>\n",
       "      <td>Yes</td>\n",
       "      <td>Male</td>\n",
       "      <td>60-64</td>\n",
       "      <td>Hispanic</td>\n",
       "      <td>Yes</td>\n",
       "      <td>No</td>\n",
       "      <td>Fair</td>\n",
       "      <td>6</td>\n",
       "      <td>Yes</td>\n",
       "      <td>No</td>\n",
       "      <td>No</td>\n",
       "    </tr>\n",
       "    <tr>\n",
       "      <th>319791</th>\n",
       "      <td>No</td>\n",
       "      <td>29.84</td>\n",
       "      <td>Yes</td>\n",
       "      <td>No</td>\n",
       "      <td>No</td>\n",
       "      <td>0</td>\n",
       "      <td>0</td>\n",
       "      <td>No</td>\n",
       "      <td>Male</td>\n",
       "      <td>35-39</td>\n",
       "      <td>Hispanic</td>\n",
       "      <td>No</td>\n",
       "      <td>Yes</td>\n",
       "      <td>Very good</td>\n",
       "      <td>5</td>\n",
       "      <td>Yes</td>\n",
       "      <td>No</td>\n",
       "      <td>No</td>\n",
       "    </tr>\n",
       "    <tr>\n",
       "      <th>319792</th>\n",
       "      <td>No</td>\n",
       "      <td>24.24</td>\n",
       "      <td>No</td>\n",
       "      <td>No</td>\n",
       "      <td>No</td>\n",
       "      <td>0</td>\n",
       "      <td>0</td>\n",
       "      <td>No</td>\n",
       "      <td>Female</td>\n",
       "      <td>45-49</td>\n",
       "      <td>Hispanic</td>\n",
       "      <td>No</td>\n",
       "      <td>Yes</td>\n",
       "      <td>Good</td>\n",
       "      <td>6</td>\n",
       "      <td>No</td>\n",
       "      <td>No</td>\n",
       "      <td>No</td>\n",
       "    </tr>\n",
       "    <tr>\n",
       "      <th>319793</th>\n",
       "      <td>No</td>\n",
       "      <td>32.81</td>\n",
       "      <td>No</td>\n",
       "      <td>No</td>\n",
       "      <td>No</td>\n",
       "      <td>0</td>\n",
       "      <td>0</td>\n",
       "      <td>No</td>\n",
       "      <td>Female</td>\n",
       "      <td>25-29</td>\n",
       "      <td>Hispanic</td>\n",
       "      <td>No</td>\n",
       "      <td>No</td>\n",
       "      <td>Good</td>\n",
       "      <td>12</td>\n",
       "      <td>No</td>\n",
       "      <td>No</td>\n",
       "      <td>No</td>\n",
       "    </tr>\n",
       "    <tr>\n",
       "      <th>319794</th>\n",
       "      <td>No</td>\n",
       "      <td>46.56</td>\n",
       "      <td>No</td>\n",
       "      <td>No</td>\n",
       "      <td>No</td>\n",
       "      <td>0</td>\n",
       "      <td>0</td>\n",
       "      <td>No</td>\n",
       "      <td>Female</td>\n",
       "      <td>80 or older</td>\n",
       "      <td>Hispanic</td>\n",
       "      <td>No</td>\n",
       "      <td>Yes</td>\n",
       "      <td>Good</td>\n",
       "      <td>8</td>\n",
       "      <td>No</td>\n",
       "      <td>No</td>\n",
       "      <td>No</td>\n",
       "    </tr>\n",
       "  </tbody>\n",
       "</table>\n",
       "<p>319795 rows × 18 columns</p>\n",
       "</div>"
      ],
      "text/plain": [
       "       HeartDisease    BMI Smoking AlcoholDrinking Stroke  PhysicalHealth  \\\n",
       "0                No  16.60     Yes              No     No               3   \n",
       "1                No  20.34      No              No    Yes               0   \n",
       "2                No  26.58     Yes              No     No              20   \n",
       "3                No  24.21      No              No     No               0   \n",
       "4                No  23.71      No              No     No              28   \n",
       "...             ...    ...     ...             ...    ...             ...   \n",
       "319790          Yes  27.41     Yes              No     No               7   \n",
       "319791           No  29.84     Yes              No     No               0   \n",
       "319792           No  24.24      No              No     No               0   \n",
       "319793           No  32.81      No              No     No               0   \n",
       "319794           No  46.56      No              No     No               0   \n",
       "\n",
       "        MentalHealth DiffWalking     Sex  AgeCategory      Race Diabetic  \\\n",
       "0                 30          No  Female        55-59     White      Yes   \n",
       "1                  0          No  Female  80 or older     White       No   \n",
       "2                 30          No    Male        65-69     White      Yes   \n",
       "3                  0          No  Female        75-79     White       No   \n",
       "4                  0         Yes  Female        40-44     White       No   \n",
       "...              ...         ...     ...          ...       ...      ...   \n",
       "319790             0         Yes    Male        60-64  Hispanic      Yes   \n",
       "319791             0          No    Male        35-39  Hispanic       No   \n",
       "319792             0          No  Female        45-49  Hispanic       No   \n",
       "319793             0          No  Female        25-29  Hispanic       No   \n",
       "319794             0          No  Female  80 or older  Hispanic       No   \n",
       "\n",
       "       PhysicalActivity  GenHealth  SleepTime Asthma KidneyDisease SkinCancer  \n",
       "0                   Yes  Very good          5    Yes            No        Yes  \n",
       "1                   Yes  Very good          7     No            No         No  \n",
       "2                   Yes       Fair          8    Yes            No         No  \n",
       "3                    No       Good          6     No            No        Yes  \n",
       "4                   Yes  Very good          8     No            No         No  \n",
       "...                 ...        ...        ...    ...           ...        ...  \n",
       "319790               No       Fair          6    Yes            No         No  \n",
       "319791              Yes  Very good          5    Yes            No         No  \n",
       "319792              Yes       Good          6     No            No         No  \n",
       "319793               No       Good         12     No            No         No  \n",
       "319794              Yes       Good          8     No            No         No  \n",
       "\n",
       "[319795 rows x 18 columns]"
      ]
     },
     "execution_count": 2,
     "metadata": {},
     "output_type": "execute_result"
    }
   ],
   "source": [
    "df"
   ]
  },
  {
   "cell_type": "code",
   "execution_count": 3,
   "id": "c4ed5bb9",
   "metadata": {},
   "outputs": [
    {
     "data": {
      "text/html": [
       "<div>\n",
       "<style scoped>\n",
       "    .dataframe tbody tr th:only-of-type {\n",
       "        vertical-align: middle;\n",
       "    }\n",
       "\n",
       "    .dataframe tbody tr th {\n",
       "        vertical-align: top;\n",
       "    }\n",
       "\n",
       "    .dataframe thead th {\n",
       "        text-align: right;\n",
       "    }\n",
       "</style>\n",
       "<table border=\"1\" class=\"dataframe\">\n",
       "  <thead>\n",
       "    <tr style=\"text-align: right;\">\n",
       "      <th></th>\n",
       "      <th>HeartDisease</th>\n",
       "      <th>BMI</th>\n",
       "      <th>Smoking</th>\n",
       "      <th>AlcoholDrinking</th>\n",
       "      <th>Stroke</th>\n",
       "      <th>PhysicalHealth</th>\n",
       "      <th>MentalHealth</th>\n",
       "      <th>DiffWalking</th>\n",
       "      <th>Sex</th>\n",
       "      <th>AgeCategory</th>\n",
       "      <th>Race</th>\n",
       "      <th>Diabetic</th>\n",
       "      <th>PhysicalActivity</th>\n",
       "      <th>GenHealth</th>\n",
       "      <th>SleepTime</th>\n",
       "      <th>Asthma</th>\n",
       "      <th>KidneyDisease</th>\n",
       "      <th>SkinCancer</th>\n",
       "    </tr>\n",
       "  </thead>\n",
       "  <tbody>\n",
       "    <tr>\n",
       "      <th>0</th>\n",
       "      <td>No</td>\n",
       "      <td>16.60</td>\n",
       "      <td>Yes</td>\n",
       "      <td>No</td>\n",
       "      <td>No</td>\n",
       "      <td>3</td>\n",
       "      <td>30</td>\n",
       "      <td>No</td>\n",
       "      <td>Female</td>\n",
       "      <td>55-59</td>\n",
       "      <td>White</td>\n",
       "      <td>Yes</td>\n",
       "      <td>Yes</td>\n",
       "      <td>Very good</td>\n",
       "      <td>5</td>\n",
       "      <td>Yes</td>\n",
       "      <td>No</td>\n",
       "      <td>Yes</td>\n",
       "    </tr>\n",
       "    <tr>\n",
       "      <th>1</th>\n",
       "      <td>No</td>\n",
       "      <td>20.34</td>\n",
       "      <td>No</td>\n",
       "      <td>No</td>\n",
       "      <td>Yes</td>\n",
       "      <td>0</td>\n",
       "      <td>0</td>\n",
       "      <td>No</td>\n",
       "      <td>Female</td>\n",
       "      <td>80 or older</td>\n",
       "      <td>White</td>\n",
       "      <td>No</td>\n",
       "      <td>Yes</td>\n",
       "      <td>Very good</td>\n",
       "      <td>7</td>\n",
       "      <td>No</td>\n",
       "      <td>No</td>\n",
       "      <td>No</td>\n",
       "    </tr>\n",
       "    <tr>\n",
       "      <th>2</th>\n",
       "      <td>No</td>\n",
       "      <td>26.58</td>\n",
       "      <td>Yes</td>\n",
       "      <td>No</td>\n",
       "      <td>No</td>\n",
       "      <td>20</td>\n",
       "      <td>30</td>\n",
       "      <td>No</td>\n",
       "      <td>Male</td>\n",
       "      <td>65-69</td>\n",
       "      <td>White</td>\n",
       "      <td>Yes</td>\n",
       "      <td>Yes</td>\n",
       "      <td>Fair</td>\n",
       "      <td>8</td>\n",
       "      <td>Yes</td>\n",
       "      <td>No</td>\n",
       "      <td>No</td>\n",
       "    </tr>\n",
       "    <tr>\n",
       "      <th>3</th>\n",
       "      <td>No</td>\n",
       "      <td>24.21</td>\n",
       "      <td>No</td>\n",
       "      <td>No</td>\n",
       "      <td>No</td>\n",
       "      <td>0</td>\n",
       "      <td>0</td>\n",
       "      <td>No</td>\n",
       "      <td>Female</td>\n",
       "      <td>75-79</td>\n",
       "      <td>White</td>\n",
       "      <td>No</td>\n",
       "      <td>No</td>\n",
       "      <td>Good</td>\n",
       "      <td>6</td>\n",
       "      <td>No</td>\n",
       "      <td>No</td>\n",
       "      <td>Yes</td>\n",
       "    </tr>\n",
       "    <tr>\n",
       "      <th>4</th>\n",
       "      <td>No</td>\n",
       "      <td>23.71</td>\n",
       "      <td>No</td>\n",
       "      <td>No</td>\n",
       "      <td>No</td>\n",
       "      <td>28</td>\n",
       "      <td>0</td>\n",
       "      <td>Yes</td>\n",
       "      <td>Female</td>\n",
       "      <td>40-44</td>\n",
       "      <td>White</td>\n",
       "      <td>No</td>\n",
       "      <td>Yes</td>\n",
       "      <td>Very good</td>\n",
       "      <td>8</td>\n",
       "      <td>No</td>\n",
       "      <td>No</td>\n",
       "      <td>No</td>\n",
       "    </tr>\n",
       "  </tbody>\n",
       "</table>\n",
       "</div>"
      ],
      "text/plain": [
       "  HeartDisease    BMI Smoking AlcoholDrinking Stroke  PhysicalHealth  \\\n",
       "0           No  16.60     Yes              No     No               3   \n",
       "1           No  20.34      No              No    Yes               0   \n",
       "2           No  26.58     Yes              No     No              20   \n",
       "3           No  24.21      No              No     No               0   \n",
       "4           No  23.71      No              No     No              28   \n",
       "\n",
       "   MentalHealth DiffWalking     Sex  AgeCategory   Race Diabetic  \\\n",
       "0            30          No  Female        55-59  White      Yes   \n",
       "1             0          No  Female  80 or older  White       No   \n",
       "2            30          No    Male        65-69  White      Yes   \n",
       "3             0          No  Female        75-79  White       No   \n",
       "4             0         Yes  Female        40-44  White       No   \n",
       "\n",
       "  PhysicalActivity  GenHealth  SleepTime Asthma KidneyDisease SkinCancer  \n",
       "0              Yes  Very good          5    Yes            No        Yes  \n",
       "1              Yes  Very good          7     No            No         No  \n",
       "2              Yes       Fair          8    Yes            No         No  \n",
       "3               No       Good          6     No            No        Yes  \n",
       "4              Yes  Very good          8     No            No         No  "
      ]
     },
     "execution_count": 3,
     "metadata": {},
     "output_type": "execute_result"
    }
   ],
   "source": [
    "df.head()"
   ]
  },
  {
   "cell_type": "code",
   "execution_count": 4,
   "id": "a3c2218f",
   "metadata": {},
   "outputs": [
    {
     "data": {
      "text/plain": [
       "HeartDisease        319795\n",
       "BMI                 319795\n",
       "Smoking             319795\n",
       "AlcoholDrinking     319795\n",
       "Stroke              319795\n",
       "PhysicalHealth      319795\n",
       "MentalHealth        319795\n",
       "DiffWalking         319795\n",
       "Sex                 319795\n",
       "AgeCategory         319795\n",
       "Race                319795\n",
       "Diabetic            319795\n",
       "PhysicalActivity    319795\n",
       "GenHealth           319795\n",
       "SleepTime           319795\n",
       "Asthma              319795\n",
       "KidneyDisease       319795\n",
       "SkinCancer          319795\n",
       "dtype: int64"
      ]
     },
     "execution_count": 4,
     "metadata": {},
     "output_type": "execute_result"
    }
   ],
   "source": [
    "df.count().T"
   ]
  },
  {
   "cell_type": "code",
   "execution_count": 6,
   "id": "9650d33c",
   "metadata": {},
   "outputs": [
    {
     "data": {
      "text/html": [
       "<div>\n",
       "<style scoped>\n",
       "    .dataframe tbody tr th:only-of-type {\n",
       "        vertical-align: middle;\n",
       "    }\n",
       "\n",
       "    .dataframe tbody tr th {\n",
       "        vertical-align: top;\n",
       "    }\n",
       "\n",
       "    .dataframe thead th {\n",
       "        text-align: right;\n",
       "    }\n",
       "</style>\n",
       "<table border=\"1\" class=\"dataframe\">\n",
       "  <thead>\n",
       "    <tr style=\"text-align: right;\">\n",
       "      <th></th>\n",
       "      <th>count</th>\n",
       "      <th>mean</th>\n",
       "      <th>std</th>\n",
       "      <th>min</th>\n",
       "      <th>25%</th>\n",
       "      <th>50%</th>\n",
       "      <th>75%</th>\n",
       "      <th>max</th>\n",
       "    </tr>\n",
       "  </thead>\n",
       "  <tbody>\n",
       "    <tr>\n",
       "      <th>BMI</th>\n",
       "      <td>319795.0</td>\n",
       "      <td>28.325399</td>\n",
       "      <td>6.356100</td>\n",
       "      <td>12.02</td>\n",
       "      <td>24.03</td>\n",
       "      <td>27.34</td>\n",
       "      <td>31.42</td>\n",
       "      <td>94.85</td>\n",
       "    </tr>\n",
       "    <tr>\n",
       "      <th>PhysicalHealth</th>\n",
       "      <td>319795.0</td>\n",
       "      <td>3.371710</td>\n",
       "      <td>7.950850</td>\n",
       "      <td>0.00</td>\n",
       "      <td>0.00</td>\n",
       "      <td>0.00</td>\n",
       "      <td>2.00</td>\n",
       "      <td>30.00</td>\n",
       "    </tr>\n",
       "    <tr>\n",
       "      <th>MentalHealth</th>\n",
       "      <td>319795.0</td>\n",
       "      <td>3.898366</td>\n",
       "      <td>7.955235</td>\n",
       "      <td>0.00</td>\n",
       "      <td>0.00</td>\n",
       "      <td>0.00</td>\n",
       "      <td>3.00</td>\n",
       "      <td>30.00</td>\n",
       "    </tr>\n",
       "    <tr>\n",
       "      <th>SleepTime</th>\n",
       "      <td>319795.0</td>\n",
       "      <td>7.097075</td>\n",
       "      <td>1.436007</td>\n",
       "      <td>1.00</td>\n",
       "      <td>6.00</td>\n",
       "      <td>7.00</td>\n",
       "      <td>8.00</td>\n",
       "      <td>24.00</td>\n",
       "    </tr>\n",
       "  </tbody>\n",
       "</table>\n",
       "</div>"
      ],
      "text/plain": [
       "                   count       mean       std    min    25%    50%    75%  \\\n",
       "BMI             319795.0  28.325399  6.356100  12.02  24.03  27.34  31.42   \n",
       "PhysicalHealth  319795.0   3.371710  7.950850   0.00   0.00   0.00   2.00   \n",
       "MentalHealth    319795.0   3.898366  7.955235   0.00   0.00   0.00   3.00   \n",
       "SleepTime       319795.0   7.097075  1.436007   1.00   6.00   7.00   8.00   \n",
       "\n",
       "                  max  \n",
       "BMI             94.85  \n",
       "PhysicalHealth  30.00  \n",
       "MentalHealth    30.00  \n",
       "SleepTime       24.00  "
      ]
     },
     "execution_count": 6,
     "metadata": {},
     "output_type": "execute_result"
    }
   ],
   "source": [
    "df.describe().T"
   ]
  },
  {
   "cell_type": "code",
   "execution_count": 5,
   "id": "1105df44",
   "metadata": {},
   "outputs": [
    {
     "name": "stdout",
     "output_type": "stream",
     "text": [
      "<class 'pandas.core.frame.DataFrame'>\n",
      "RangeIndex: 319795 entries, 0 to 319794\n",
      "Data columns (total 18 columns):\n",
      " #   Column            Non-Null Count   Dtype  \n",
      "---  ------            --------------   -----  \n",
      " 0   HeartDisease      319795 non-null  object \n",
      " 1   BMI               319795 non-null  float64\n",
      " 2   Smoking           319795 non-null  object \n",
      " 3   AlcoholDrinking   319795 non-null  object \n",
      " 4   Stroke            319795 non-null  object \n",
      " 5   PhysicalHealth    319795 non-null  int64  \n",
      " 6   MentalHealth      319795 non-null  int64  \n",
      " 7   DiffWalking       319795 non-null  object \n",
      " 8   Sex               319795 non-null  object \n",
      " 9   AgeCategory       319795 non-null  object \n",
      " 10  Race              319795 non-null  object \n",
      " 11  Diabetic          319795 non-null  object \n",
      " 12  PhysicalActivity  319795 non-null  object \n",
      " 13  GenHealth         319795 non-null  object \n",
      " 14  SleepTime         319795 non-null  int64  \n",
      " 15  Asthma            319795 non-null  object \n",
      " 16  KidneyDisease     319795 non-null  object \n",
      " 17  SkinCancer        319795 non-null  object \n",
      "dtypes: float64(1), int64(3), object(14)\n",
      "memory usage: 43.9+ MB\n"
     ]
    }
   ],
   "source": [
    "df.info()"
   ]
  },
  {
   "cell_type": "code",
   "execution_count": 7,
   "id": "43aa7b99",
   "metadata": {},
   "outputs": [
    {
     "data": {
      "text/plain": [
       "Index(['HeartDisease', 'BMI', 'Smoking', 'AlcoholDrinking', 'Stroke',\n",
       "       'PhysicalHealth', 'MentalHealth', 'DiffWalking', 'Sex', 'AgeCategory',\n",
       "       'Race', 'Diabetic', 'PhysicalActivity', 'GenHealth', 'SleepTime',\n",
       "       'Asthma', 'KidneyDisease', 'SkinCancer'],\n",
       "      dtype='object')"
      ]
     },
     "execution_count": 7,
     "metadata": {},
     "output_type": "execute_result"
    }
   ],
   "source": [
    "df.columns"
   ]
  },
  {
   "cell_type": "code",
   "execution_count": 8,
   "id": "70177f52",
   "metadata": {},
   "outputs": [
    {
     "data": {
      "text/plain": [
       "HeartDisease        0\n",
       "BMI                 0\n",
       "Smoking             0\n",
       "AlcoholDrinking     0\n",
       "Stroke              0\n",
       "PhysicalHealth      0\n",
       "MentalHealth        0\n",
       "DiffWalking         0\n",
       "Sex                 0\n",
       "AgeCategory         0\n",
       "Race                0\n",
       "Diabetic            0\n",
       "PhysicalActivity    0\n",
       "GenHealth           0\n",
       "SleepTime           0\n",
       "Asthma              0\n",
       "KidneyDisease       0\n",
       "SkinCancer          0\n",
       "dtype: int64"
      ]
     },
     "execution_count": 8,
     "metadata": {},
     "output_type": "execute_result"
    }
   ],
   "source": [
    "df.isnull().sum()"
   ]
  },
  {
   "cell_type": "code",
   "execution_count": 9,
   "id": "338d663b",
   "metadata": {},
   "outputs": [],
   "source": [
    "df = df.drop_duplicates()"
   ]
  },
  {
   "cell_type": "code",
   "execution_count": 10,
   "id": "4d403a2a",
   "metadata": {},
   "outputs": [
    {
     "data": {
      "image/png": "[encoded data removed]",
      "text/plain": [
       "<Figure size 400x400 with 1 Axes>"
      ]
     },
     "metadata": {},
     "output_type": "display_data"
    }
   ],
   "source": [
    "# Visualizing the heart disease data\n",
    "heart_disease_counts = df['HeartDisease'].value_counts()\n",
    "\n",
    "\n",
    "plt.figure(figsize=(4, 4))\n",
    "plt.pie(heart_disease_counts, labels=heart_disease_counts.index, autopct='%1.1f%%', startangle=140, colors=['#FF9999','#66B3FF'])\n",
    "centre_circle = plt.Circle((0,0),0.70,fc='white')\n",
    "fig = plt.gcf()\n",
    "fig.gca().add_artist(centre_circle)\n",
    "\n",
    "plt.tight_layout()\n",
    "plt.title('Distribution of Heart Disease Classes')\n",
    "\n",
    "plt.show()"
   ]
  },
  {
   "cell_type": "markdown",
   "id": "50bbd9ad",
   "metadata": {},
   "source": [
    "MODEL CREATION"
   ]
  },
  {
   "cell_type": "code",
   "execution_count": 11,
   "id": "c43cc395",
   "metadata": {},
   "outputs": [],
   "source": [
    "X = df.drop('HeartDisease', axis=1)\n",
    "y = df['HeartDisease']"
   ]
  },
  {
   "cell_type": "code",
   "execution_count": 12,
   "id": "8eaee26d",
   "metadata": {},
   "outputs": [],
   "source": [
    "X['AgeCategory'] = X['AgeCategory'].str.extract('(\\d+)').astype(int)"
   ]
  },
  {
   "cell_type": "code",
   "execution_count": 13,
   "id": "193eca81",
   "metadata": {},
   "outputs": [],
   "source": [
    "binary_cols = ['Smoking','AlcoholDrinking','Stroke','DiffWalking','Diabetic',\n",
    "               'PhysicalActivity','Asthma','KidneyDisease','SkinCancer']\n",
    "\n",
    "for col in binary_cols:\n",
    "    X[col] =LabelEncoder().fit_transform(X[col])"
   ]
  },
  {
   "cell_type": "code",
   "execution_count": 14,
   "id": "f04e404c",
   "metadata": {},
   "outputs": [],
   "source": [
    "numerical_cols = ['BMI','PhysicalHealth','MentalHealth','SleepTime']\n",
    "scaler = StandardScaler()\n",
    "X[numerical_cols] = scaler.fit_transform(X[numerical_cols])"
   ]
  },
  {
   "cell_type": "code",
   "execution_count": 15,
   "id": "fc1b75bb",
   "metadata": {},
   "outputs": [],
   "source": [
    "categorical_columns = ['Sex', 'Race', 'GenHealth']\n",
    "X_encoded = pd.get_dummies(X, columns=categorical_columns, drop_first=True)\n",
    "X = X_encoded"
   ]
  },
  {
   "cell_type": "code",
   "execution_count": 16,
   "id": "d25f265c",
   "metadata": {},
   "outputs": [
    {
     "data": {
      "text/html": [
       "<div>\n",
       "<style scoped>\n",
       "    .dataframe tbody tr th:only-of-type {\n",
       "        vertical-align: middle;\n",
       "    }\n",
       "\n",
       "    .dataframe tbody tr th {\n",
       "        vertical-align: top;\n",
       "    }\n",
       "\n",
       "    .dataframe thead th {\n",
       "        text-align: right;\n",
       "    }\n",
       "</style>\n",
       "<table border=\"1\" class=\"dataframe\">\n",
       "  <thead>\n",
       "    <tr style=\"text-align: right;\">\n",
       "      <th></th>\n",
       "      <th>BMI</th>\n",
       "      <th>Smoking</th>\n",
       "      <th>AlcoholDrinking</th>\n",
       "      <th>Stroke</th>\n",
       "      <th>PhysicalHealth</th>\n",
       "      <th>MentalHealth</th>\n",
       "      <th>DiffWalking</th>\n",
       "      <th>AgeCategory</th>\n",
       "      <th>Diabetic</th>\n",
       "      <th>PhysicalActivity</th>\n",
       "      <th>...</th>\n",
       "      <th>Sex_Male</th>\n",
       "      <th>Race_Asian</th>\n",
       "      <th>Race_Black</th>\n",
       "      <th>Race_Hispanic</th>\n",
       "      <th>Race_Other</th>\n",
       "      <th>Race_White</th>\n",
       "      <th>GenHealth_Fair</th>\n",
       "      <th>GenHealth_Good</th>\n",
       "      <th>GenHealth_Poor</th>\n",
       "      <th>GenHealth_Very good</th>\n",
       "    </tr>\n",
       "  </thead>\n",
       "  <tbody>\n",
       "    <tr>\n",
       "      <th>0</th>\n",
       "      <td>-1.830820</td>\n",
       "      <td>1</td>\n",
       "      <td>0</td>\n",
       "      <td>0</td>\n",
       "      <td>-0.070301</td>\n",
       "      <td>3.183766</td>\n",
       "      <td>0</td>\n",
       "      <td>55</td>\n",
       "      <td>2</td>\n",
       "      <td>1</td>\n",
       "      <td>...</td>\n",
       "      <td>0</td>\n",
       "      <td>0</td>\n",
       "      <td>0</td>\n",
       "      <td>0</td>\n",
       "      <td>0</td>\n",
       "      <td>1</td>\n",
       "      <td>0</td>\n",
       "      <td>0</td>\n",
       "      <td>0</td>\n",
       "      <td>1</td>\n",
       "    </tr>\n",
       "    <tr>\n",
       "      <th>1</th>\n",
       "      <td>-1.252600</td>\n",
       "      <td>0</td>\n",
       "      <td>0</td>\n",
       "      <td>1</td>\n",
       "      <td>-0.438823</td>\n",
       "      <td>-0.507054</td>\n",
       "      <td>0</td>\n",
       "      <td>80</td>\n",
       "      <td>0</td>\n",
       "      <td>1</td>\n",
       "      <td>...</td>\n",
       "      <td>0</td>\n",
       "      <td>0</td>\n",
       "      <td>0</td>\n",
       "      <td>0</td>\n",
       "      <td>0</td>\n",
       "      <td>1</td>\n",
       "      <td>0</td>\n",
       "      <td>0</td>\n",
       "      <td>0</td>\n",
       "      <td>1</td>\n",
       "    </tr>\n",
       "    <tr>\n",
       "      <th>2</th>\n",
       "      <td>-0.287869</td>\n",
       "      <td>1</td>\n",
       "      <td>0</td>\n",
       "      <td>0</td>\n",
       "      <td>2.017986</td>\n",
       "      <td>3.183766</td>\n",
       "      <td>0</td>\n",
       "      <td>65</td>\n",
       "      <td>2</td>\n",
       "      <td>1</td>\n",
       "      <td>...</td>\n",
       "      <td>1</td>\n",
       "      <td>0</td>\n",
       "      <td>0</td>\n",
       "      <td>0</td>\n",
       "      <td>0</td>\n",
       "      <td>1</td>\n",
       "      <td>1</td>\n",
       "      <td>0</td>\n",
       "      <td>0</td>\n",
       "      <td>0</td>\n",
       "    </tr>\n",
       "    <tr>\n",
       "      <th>3</th>\n",
       "      <td>-0.654281</td>\n",
       "      <td>0</td>\n",
       "      <td>0</td>\n",
       "      <td>0</td>\n",
       "      <td>-0.438823</td>\n",
       "      <td>-0.507054</td>\n",
       "      <td>0</td>\n",
       "      <td>75</td>\n",
       "      <td>0</td>\n",
       "      <td>0</td>\n",
       "      <td>...</td>\n",
       "      <td>0</td>\n",
       "      <td>0</td>\n",
       "      <td>0</td>\n",
       "      <td>0</td>\n",
       "      <td>0</td>\n",
       "      <td>1</td>\n",
       "      <td>0</td>\n",
       "      <td>1</td>\n",
       "      <td>0</td>\n",
       "      <td>0</td>\n",
       "    </tr>\n",
       "    <tr>\n",
       "      <th>4</th>\n",
       "      <td>-0.731583</td>\n",
       "      <td>0</td>\n",
       "      <td>0</td>\n",
       "      <td>0</td>\n",
       "      <td>3.000709</td>\n",
       "      <td>-0.507054</td>\n",
       "      <td>1</td>\n",
       "      <td>40</td>\n",
       "      <td>0</td>\n",
       "      <td>1</td>\n",
       "      <td>...</td>\n",
       "      <td>0</td>\n",
       "      <td>0</td>\n",
       "      <td>0</td>\n",
       "      <td>0</td>\n",
       "      <td>0</td>\n",
       "      <td>1</td>\n",
       "      <td>0</td>\n",
       "      <td>0</td>\n",
       "      <td>0</td>\n",
       "      <td>1</td>\n",
       "    </tr>\n",
       "  </tbody>\n",
       "</table>\n",
       "<p>5 rows × 24 columns</p>\n",
       "</div>"
      ],
      "text/plain": [
       "        BMI  Smoking  AlcoholDrinking  Stroke  PhysicalHealth  MentalHealth  \\\n",
       "0 -1.830820        1                0       0       -0.070301      3.183766   \n",
       "1 -1.252600        0                0       1       -0.438823     -0.507054   \n",
       "2 -0.287869        1                0       0        2.017986      3.183766   \n",
       "3 -0.654281        0                0       0       -0.438823     -0.507054   \n",
       "4 -0.731583        0                0       0        3.000709     -0.507054   \n",
       "\n",
       "   DiffWalking  AgeCategory  Diabetic  PhysicalActivity  ...  Sex_Male  \\\n",
       "0            0           55         2                 1  ...         0   \n",
       "1            0           80         0                 1  ...         0   \n",
       "2            0           65         2                 1  ...         1   \n",
       "3            0           75         0                 0  ...         0   \n",
       "4            1           40         0                 1  ...         0   \n",
       "\n",
       "   Race_Asian  Race_Black  Race_Hispanic  Race_Other  Race_White  \\\n",
       "0           0           0              0           0           1   \n",
       "1           0           0              0           0           1   \n",
       "2           0           0              0           0           1   \n",
       "3           0           0              0           0           1   \n",
       "4           0           0              0           0           1   \n",
       "\n",
       "   GenHealth_Fair  GenHealth_Good  GenHealth_Poor  GenHealth_Very good  \n",
       "0               0               0               0                    1  \n",
       "1               0               0               0                    1  \n",
       "2               1               0               0                    0  \n",
       "3               0               1               0                    0  \n",
       "4               0               0               0                    1  \n",
       "\n",
       "[5 rows x 24 columns]"
      ]
     },
     "execution_count": 16,
     "metadata": {},
     "output_type": "execute_result"
    }
   ],
   "source": [
    "X.head()"
   ]
  },
  {
   "cell_type": "code",
   "execution_count": 17,
   "id": "ce4b37f1",
   "metadata": {},
   "outputs": [],
   "source": [
    "X_train,X_test,y_train,y_test = train_test_split(X,y,test_size = 0.2,random_state=42)"
   ]
  },
  {
   "cell_type": "code",
   "execution_count": 18,
   "id": "cea1e29f",
   "metadata": {},
   "outputs": [],
   "source": [
    "model_performance = {}"
   ]
  },
  {
   "cell_type": "markdown",
   "id": "d1a23971",
   "metadata": {},
   "source": [
    "Logistic Regression"
   ]
  },
  {
   "cell_type": "code",
   "execution_count": 19,
   "id": "f2b33798",
   "metadata": {},
   "outputs": [],
   "source": [
    "model_name = 'Logistic Regression'\n",
    "model = LogisticRegression(max_iter=1000)\n",
    "\n",
    "model.fit(X_train, y_train)\n",
    "\n",
    "y_pred = model.predict(X_test)\n",
    "\n",
    "accuracy = accuracy_score(y_test, y_pred)\n",
    "precision = precision_score(y_test, y_pred, pos_label='Yes')\n",
    "recall = recall_score(y_test, y_pred, pos_label='Yes')\n",
    "f1 = f1_score(y_test, y_pred, pos_label='Yes')\n",
    "\n",
    "model_performance[model_name] = {\n",
    "        'Accuracy': accuracy,\n",
    "        'Precision': precision,\n",
    "        'Recall': recall,\n",
    "        'F1 Score': f1\n",
    "    }\n"
   ]
  },
  {
   "cell_type": "markdown",
   "id": "c9d6fee9",
   "metadata": {},
   "source": [
    "Decision Tree"
   ]
  },
  {
   "cell_type": "code",
   "execution_count": 20,
   "id": "f78c27e9",
   "metadata": {},
   "outputs": [],
   "source": [
    "model_name = 'Decision Tree'\n",
    "model = DecisionTreeClassifier()\n",
    "\n",
    "model.fit(X_train, y_train)\n",
    "\n",
    "y_pred = model.predict(X_test)\n",
    "\n",
    "accuracy = accuracy_score(y_test, y_pred)\n",
    "precision = precision_score(y_test, y_pred, pos_label='Yes')\n",
    "recall = recall_score(y_test, y_pred, pos_label='Yes')\n",
    "f1 = f1_score(y_test, y_pred, pos_label='Yes')\n",
    "\n",
    "model_performance[model_name] = {\n",
    "        'Accuracy': accuracy,\n",
    "        'Precision': precision,\n",
    "        'Recall': recall,\n",
    "        'F1 Score': f1\n",
    "    }"
   ]
  },
  {
   "cell_type": "markdown",
   "id": "dfff1a3b",
   "metadata": {},
   "source": [
    "Random Forest"
   ]
  },
  {
   "cell_type": "code",
   "execution_count": 21,
   "id": "fc1c69c9",
   "metadata": {},
   "outputs": [],
   "source": [
    "model_name = 'Random Forest'\n",
    "model = RandomForestClassifier()\n",
    "\n",
    "model.fit(X_train, y_train)\n",
    "\n",
    "y_pred = model.predict(X_test)\n",
    "\n",
    "accuracy = accuracy_score(y_test, y_pred)\n",
    "precision = precision_score(y_test, y_pred, pos_label='Yes')\n",
    "recall = recall_score(y_test, y_pred, pos_label='Yes')\n",
    "f1 = f1_score(y_test, y_pred, pos_label='Yes')\n",
    "\n",
    "model_performance[model_name] = {\n",
    "        'Accuracy': accuracy,\n",
    "        'Precision': precision,\n",
    "        'Recall': recall,\n",
    "        'F1 Score': f1\n",
    "    }\n"
   ]
  },
  {
   "cell_type": "markdown",
   "id": "bc833673",
   "metadata": {},
   "source": [
    "Gradient Boosting"
   ]
  },
  {
   "cell_type": "code",
   "execution_count": 22,
   "id": "a0a73b36",
   "metadata": {},
   "outputs": [],
   "source": [
    "model_name = 'Gradient Boosting'\n",
    "model = GradientBoostingClassifier()\n",
    "\n",
    "model.fit(X_train, y_train)\n",
    "\n",
    "y_pred = model.predict(X_test)\n",
    "\n",
    "accuracy = accuracy_score(y_test, y_pred)\n",
    "precision = precision_score(y_test, y_pred, pos_label='Yes')\n",
    "recall = recall_score(y_test, y_pred, pos_label='Yes')\n",
    "f1 = f1_score(y_test, y_pred, pos_label='Yes')\n",
    "\n",
    "model_performance[model_name] = {\n",
    "        'Accuracy': accuracy,\n",
    "        'Precision': precision,\n",
    "        'Recall': recall,\n",
    "        'F1 Score': f1\n",
    "    }"
   ]
  },
  {
   "cell_type": "markdown",
   "id": "74c4b712",
   "metadata": {},
   "source": [
    "Neural Network"
   ]
  },
  {
   "cell_type": "code",
   "execution_count": 23,
   "id": "9f6b9166",
   "metadata": {},
   "outputs": [],
   "source": [
    "model_name = 'Neural Network'\n",
    "model = MLPClassifier(max_iter=1000)\n",
    "\n",
    "model.fit(X_train, y_train)\n",
    "\n",
    "y_pred = model.predict(X_test)\n",
    "\n",
    "accuracy = accuracy_score(y_test, y_pred)\n",
    "precision = precision_score(y_test, y_pred, pos_label='Yes')\n",
    "recall = recall_score(y_test, y_pred, pos_label='Yes')\n",
    "f1 = f1_score(y_test, y_pred, pos_label='Yes')\n",
    "\n",
    "model_performance[model_name] = {\n",
    "        'Accuracy': accuracy,\n",
    "        'Precision': precision,\n",
    "        'Recall': recall,\n",
    "        'F1 Score': f1\n",
    "    }"
   ]
  },
  {
   "cell_type": "markdown",
   "id": "3ac1c067",
   "metadata": {},
   "source": [
    "Model Performance"
   ]
  },
  {
   "cell_type": "code",
   "execution_count": 24,
   "id": "b9f990c5",
   "metadata": {},
   "outputs": [
    {
     "name": "stdout",
     "output_type": "stream",
     "text": [
      "Model: Logistic Regression\n",
      "Accuracy: 0.91071191833488\n",
      "Precision: 0.5279783393501805\n",
      "Recall: 0.10733944954128441\n",
      "F1 Score: 0.17840805123513268\n",
      "------------------------------\n",
      "Model: Decision Tree\n",
      "Accuracy: 0.8542522868885059\n",
      "Precision: 0.22432833360804352\n",
      "Recall: 0.24972477064220183\n",
      "F1 Score: 0.23634627073022485\n",
      "------------------------------\n",
      "Model: Random Forest\n",
      "Accuracy: 0.8983328914225109\n",
      "Precision: 0.3271075214538112\n",
      "Recall: 0.11889908256880734\n",
      "F1 Score: 0.17440452159870812\n",
      "------------------------------\n",
      "Model: Gradient Boosting\n",
      "Accuracy: 0.9115239294710328\n",
      "Precision: 0.5614617940199336\n",
      "Recall: 0.09302752293577982\n",
      "F1 Score: 0.15960963324413663\n",
      "------------------------------\n",
      "Model: Neural Network\n",
      "Accuracy: 0.9109936364841575\n",
      "Precision: 0.5749525616698292\n",
      "Recall: 0.05559633027522936\n",
      "F1 Score: 0.10138865651664715\n",
      "------------------------------\n"
     ]
    }
   ],
   "source": [
    "for model_name, metrics in model_performance.items():\n",
    "    print(f'Model: {model_name}')\n",
    "    print(f'Accuracy: {metrics[\"Accuracy\"]}')\n",
    "    print(f'Precision: {metrics[\"Precision\"]}')\n",
    "    print(f'Recall: {metrics[\"Recall\"]}')\n",
    "    print(f'F1 Score: {metrics[\"F1 Score\"]}')\n",
    "    print('-' * 30)"
   ]
  },
  {
   "cell_type": "code",
   "execution_count": 25,
   "id": "da1cae58",
   "metadata": {},
   "outputs": [],
   "source": [
    "results_dict = {}"
   ]
  },
  {
   "cell_type": "code",
   "execution_count": 27,
   "id": "cd148df6",
   "metadata": {},
   "outputs": [
    {
     "name": "stdout",
     "output_type": "stream",
     "text": [
      "Model: Decision Tree\n",
      "     Actual Counts  Predicted Counts\n",
      "No           54894             54288\n",
      "Yes           5450              6056\n",
      "--------------------------------------------------\n",
      "Model: Logistic Regression\n",
      "     Actual Counts  Predicted Counts\n",
      "No           54894             59236\n",
      "Yes           5450              1108\n",
      "--------------------------------------------------\n",
      "Model: Random Forest\n",
      "     Actual Counts  Predicted Counts\n",
      "No           54894             58379\n",
      "Yes           5450              1965\n",
      "--------------------------------------------------\n",
      "Model: Gradient Boosting\n",
      "     Actual Counts  Predicted Counts\n",
      "No           54894             59441\n",
      "Yes           5450               903\n",
      "--------------------------------------------------\n",
      "Model: Neural Network\n",
      "     Actual Counts  Predicted Counts\n",
      "No           54894             59799\n",
      "Yes           5450               545\n",
      "--------------------------------------------------\n"
     ]
    }
   ],
   "source": [
    "# Define and train your models\n",
    "decision_tree_model = DecisionTreeClassifier()\n",
    "logistic_regression_model = LogisticRegression(max_iter=1000)\n",
    "random_forest_model = RandomForestClassifier()\n",
    "gradient_boosting_model = GradientBoostingClassifier()\n",
    "neural_network_model = MLPClassifier(max_iter=1000)\n",
    "\n",
    "decision_tree_model.fit(X_train, y_train)\n",
    "logistic_regression_model.fit(X_train, y_train)\n",
    "random_forest_model.fit(X_train, y_train)\n",
    "gradient_boosting_model.fit(X_train, y_train)\n",
    "neural_network_model.fit(X_train, y_train)\n",
    "\n",
    "# Define the evaluate_model function\n",
    "def evaluate_model(model, X_test, y_test, model_name):\n",
    "    y_pred_test = model.predict(X_test)\n",
    "    results_df = pd.DataFrame({'Actual': y_test, 'Predicted': y_pred_test})\n",
    "\n",
    "    actual_counts = results_df['Actual'].value_counts()\n",
    "    predicted_counts = results_df['Predicted'].value_counts()\n",
    "\n",
    "    actual_table = pd.DataFrame(actual_counts)\n",
    "    actual_table.columns = ['Counts']\n",
    "\n",
    "    predicted_table = pd.DataFrame(predicted_counts)\n",
    "    predicted_table.columns = ['Counts']\n",
    "\n",
    "    merged_table = actual_table.merge(predicted_table, left_index=True, right_index=True, how='outer')\n",
    "    merged_table.columns = ['Actual Counts', 'Predicted Counts']\n",
    "\n",
    "    results_dict[model_name] = merged_table\n",
    "\n",
    "# Store the models in a list\n",
    "models = [decision_tree_model, logistic_regression_model, random_forest_model, gradient_boosting_model, neural_network_model]\n",
    "\n",
    "# Define the model names\n",
    "model_names = ['Decision Tree', 'Logistic Regression', 'Random Forest', 'Gradient Boosting', 'Neural Network']\n",
    "\n",
    "# Evaluate the models\n",
    "results_dict = {}\n",
    "\n",
    "for model_name, model in zip(model_names, models):\n",
    "    evaluate_model(model, X_test, y_test, model_name)\n",
    "\n",
    "for model_name, results_table in results_dict.items():\n",
    "    print(f\"Model: {model_name}\")\n",
    "    print(results_table)\n",
    "    print('-' * 50)"
   ]
  },
  {
   "cell_type": "code",
   "execution_count": 28,
   "id": "54cd7c94",
   "metadata": {},
   "outputs": [
    {
     "data": {
      "image/png": "[encoded data removed]",
      "text/plain": [
       "<Figure size 1000x800 with 1 Axes>"
      ]
     },
     "metadata": {},
     "output_type": "display_data"
    }
   ],
   "source": [
    "metrics = ['Accuracy', 'Precision','Recall','F1 Score']\n",
    "\n",
    "# Get the list of model names\n",
    "model_names = list(model_performance.keys())\n",
    "\n",
    "fig, ax = plt.subplots(figsize=(10, 8))\n",
    "\n",
    "num_metrics = len(metrics)\n",
    "num_models = len(model_performance)\n",
    "total_width = 0.8\n",
    "width = total_width / num_models\n",
    "\n",
    "pos = np.arange(num_metrics) * (total_width + 0.1)\n",
    "\n",
    "for i, (model_name, metrics_dict) in enumerate(model_performance.items()):\n",
    "    values = [metrics_dict[metric] for metric in metrics]\n",
    "\n",
    "    plt.barh(pos + i * width, values, width, label=model_name)\n",
    "\n",
    "ax.set_yticks(pos + ((num_metrics-1) / 2) * width)\n",
    "ax.set_yticklabels(metrics)\n",
    "ax.set_xlabel('Values')\n",
    "ax.set_title('Model Performance Metrics')\n",
    "plt.legend()\n",
    "\n",
    "plt.show()"
   ]
  },
  {
   "cell_type": "code",
   "execution_count": 29,
   "id": "4a765d97",
   "metadata": {},
   "outputs": [
    {
     "data": {
      "image/png": "[encoded data removed]",
      "text/plain": [
       "<Figure size 1000x800 with 1 Axes>"
      ]
     },
     "metadata": {},
     "output_type": "display_data"
    }
   ],
   "source": [
    "colors = ['#000000', '#FF6B8E', 'brown','#B48FD8']\n",
    "\n",
    "fig, ax = plt.subplots(figsize=(10, 8))\n",
    "\n",
    "pos = np.arange(len(model_names))\n",
    "width = 0.2\n",
    "for i, metric in enumerate(metrics):\n",
    "    values = [model_performance[model_name][metric] for model_name in model_names]\n",
    "    \n",
    "    plt.barh(pos + i * width, values, width, label=metric, color=colors[i])\n",
    "\n",
    "ax.set_yticks(pos + (len(metrics) / 2) * width)\n",
    "ax.set_yticklabels(model_names)\n",
    "ax.set_xlabel('Values')\n",
    "ax.set_title('Model Performance Metrics')\n",
    "plt.legend(title='Metrics', loc='upper right')\n",
    "\n",
    "plt.show()"
   ]
  },
  {
   "cell_type": "markdown",
   "id": "be36e892",
   "metadata": {},
   "source": [
    "CONCLUSIONS:\n",
    "    \n",
    "Models are performing well based on accuracy"
   ]
  },
  {
   "cell_type": "markdown",
   "id": "8b457547",
   "metadata": {},
   "source": [
    "Very poor recall making the model unfit"
   ]
  },
  {
   "cell_type": "markdown",
   "id": "1f6bc660",
   "metadata": {},
   "source": [
    "Of the five models Decision Tree is the best across the 4 metrices"
   ]
  },
  {
   "cell_type": "markdown",
   "id": "e6f4f545",
   "metadata": {},
   "source": [
    "MODEL 2 WITH BALANCED DATA"
   ]
  },
  {
   "cell_type": "code",
   "execution_count": 30,
   "id": "dcf8c7c1",
   "metadata": {},
   "outputs": [],
   "source": [
    "file_path_2 = 'downloads/heart/heart_2020_cleaned.csv'\n",
    "df_clean = pd.read_csv(file_path_2)"
   ]
  },
  {
   "cell_type": "code",
   "execution_count": 31,
   "id": "56eddbc5",
   "metadata": {},
   "outputs": [
    {
     "name": "stdout",
     "output_type": "stream",
     "text": [
      "0\n"
     ]
    }
   ],
   "source": [
    "row_duplicate_counts = df[df.duplicated].shape[0]\n",
    "print(row_duplicate_counts)"
   ]
  },
  {
   "cell_type": "code",
   "execution_count": 32,
   "id": "d379d8a1",
   "metadata": {},
   "outputs": [
    {
     "name": "stdout",
     "output_type": "stream",
     "text": [
      "26.63    3762\n",
      "27.46    2767\n",
      "27.44    2723\n",
      "24.41    2696\n",
      "27.12    2525\n",
      "         ... \n",
      "59.85       1\n",
      "50.59       1\n",
      "92.53       1\n",
      "62.95       1\n",
      "46.56       1\n",
      "Name: BMI, Length: 3604, dtype: int64\n"
     ]
    }
   ],
   "source": [
    "bmi_proportions = df_clean['BMI'].value_counts()\n",
    "print(bmi_proportions)"
   ]
  },
  {
   "cell_type": "code",
   "execution_count": 33,
   "id": "9c03dc2f",
   "metadata": {},
   "outputs": [],
   "source": [
    "#Get the counts of each 'BMI' value\n",
    "bmi_proportions = df_clean['BMI'].value_counts()\n",
    "\n",
    "#Identify values with counts less than 100\n",
    "values_to_drop = bmi_proportions[bmi_proportions < 100].index\n",
    "\n",
    "#Drop rows with those values\n",
    "df_clean = df_clean[~df_clean['BMI'].isin(values_to_drop)]"
   ]
  },
  {
   "cell_type": "code",
   "execution_count": 34,
   "id": "dfe0982f",
   "metadata": {},
   "outputs": [
    {
     "name": "stdout",
     "output_type": "stream",
     "text": [
      "No     159697\n",
      "Yes    110959\n",
      "Name: Smoking, dtype: int64\n"
     ]
    }
   ],
   "source": [
    "smoking_proportions = df_clean['Smoking'].value_counts()\n",
    "print(smoking_proportions)"
   ]
  },
  {
   "cell_type": "code",
   "execution_count": 35,
   "id": "358bae81",
   "metadata": {},
   "outputs": [
    {
     "name": "stdout",
     "output_type": "stream",
     "text": [
      "No     251678\n",
      "Yes     18978\n",
      "Name: AlcoholDrinking, dtype: int64\n"
     ]
    }
   ],
   "source": [
    "Alcohol_drinking_proportions = df_clean['AlcoholDrinking'].value_counts()\n",
    "print(Alcohol_drinking_proportions)"
   ]
  },
  {
   "cell_type": "code",
   "execution_count": 36,
   "id": "fb9d44ee",
   "metadata": {},
   "outputs": [
    {
     "name": "stdout",
     "output_type": "stream",
     "text": [
      "No     260942\n",
      "Yes      9714\n",
      "Name: Stroke, dtype: int64\n"
     ]
    }
   ],
   "source": [
    "# Proportions show that stroke is not a very good contributing factor,regardless it will be kept in this project\n",
    "Stroke_proportions = df_clean['Stroke'].value_counts()\n",
    "print(Stroke_proportions)"
   ]
  },
  {
   "cell_type": "code",
   "execution_count": 37,
   "id": "fff0211c",
   "metadata": {},
   "outputs": [],
   "source": [
    "# Dropping values for proportions with < 100 people\n",
    "physical_health_proportions = df_clean['PhysicalHealth'].value_counts()\n",
    "values_to_drop = physical_health_proportions[physical_health_proportions < 100].index\n",
    "df_clean = df_clean[~df_clean['PhysicalHealth'].isin(values_to_drop)]"
   ]
  },
  {
   "cell_type": "code",
   "execution_count": 38,
   "id": "6c32d8d9",
   "metadata": {},
   "outputs": [],
   "source": [
    "# Dropping values for proportions with less than 100 people\n",
    "mental_health_proportions = df_clean['MentalHealth'].value_counts()\n",
    "values_to_drop = mental_health_proportions[mental_health_proportions < 100].index\n",
    "df_clean = df_clean[~df_clean['MentalHealth'].isin(values_to_drop)]"
   ]
  },
  {
   "cell_type": "code",
   "execution_count": 39,
   "id": "c66d4178",
   "metadata": {},
   "outputs": [
    {
     "name": "stdout",
     "output_type": "stream",
     "text": [
      "No     236544\n",
      "Yes     33017\n",
      "Name: DiffWalking, dtype: int64\n"
     ]
    }
   ],
   "source": [
    "DiffWalking_proportions = df_clean['DiffWalking'].value_counts()\n",
    "print(DiffWalking_proportions)"
   ]
  },
  {
   "cell_type": "code",
   "execution_count": 40,
   "id": "37fff305",
   "metadata": {},
   "outputs": [
    {
     "name": "stdout",
     "output_type": "stream",
     "text": [
      "Female    139635\n",
      "Male      129926\n",
      "Name: Sex, dtype: int64\n"
     ]
    }
   ],
   "source": [
    "Sex_proportions = df_clean['Sex'].value_counts()\n",
    "print(Sex_proportions)"
   ]
  },
  {
   "cell_type": "code",
   "execution_count": 41,
   "id": "0043e78f",
   "metadata": {},
   "outputs": [
    {
     "name": "stdout",
     "output_type": "stream",
     "text": [
      "65-69          28541\n",
      "60-64          28196\n",
      "70-74          26129\n",
      "55-59          25019\n",
      "50-54          21247\n",
      "80 or older    20289\n",
      "45-49          18367\n",
      "75-79          18000\n",
      "18-24          17957\n",
      "40-44          17847\n",
      "35-39          17478\n",
      "30-34          15922\n",
      "25-29          14569\n",
      "Name: AgeCategory, dtype: int64\n"
     ]
    }
   ],
   "source": [
    "# One of the best evenly distributed columns\n",
    "AgeCategory_proportions = df_clean['AgeCategory'].value_counts()\n",
    "print(AgeCategory_proportions)"
   ]
  },
  {
   "cell_type": "code",
   "execution_count": 42,
   "id": "ff658fd7",
   "metadata": {},
   "outputs": [
    {
     "name": "stdout",
     "output_type": "stream",
     "text": [
      "White                             209607\n",
      "Hispanic                           22111\n",
      "Black                              17912\n",
      "Other                               8951\n",
      "Asian                               6743\n",
      "American Indian/Alaskan Native      4237\n",
      "Name: Race, dtype: int64\n"
     ]
    }
   ],
   "source": [
    "Race_proportions = df_clean['Race'].value_counts()\n",
    "print(Race_proportions)"
   ]
  },
  {
   "cell_type": "code",
   "execution_count": 43,
   "id": "4cb9dd5e",
   "metadata": {},
   "outputs": [
    {
     "name": "stdout",
     "output_type": "stream",
     "text": [
      "White       229538\n",
      "Hispanic     22111\n",
      "Black        17912\n",
      "Name: Race, dtype: int64\n"
     ]
    }
   ],
   "source": [
    "# Define the races to keep\n",
    "races_to_keep = ['White', 'Black','Hispanic']\n",
    "\n",
    "# Replace all the other races with white\n",
    "df_clean['Race'] = df_clean['Race'].apply(lambda x: x if x in races_to_keep else 'White')\n",
    "\n",
    "Race_proportions = df_clean['Race'].value_counts()\n",
    "print(Race_proportions)"
   ]
  },
  {
   "cell_type": "code",
   "execution_count": 44,
   "id": "7f4009bc",
   "metadata": {},
   "outputs": [
    {
     "name": "stdout",
     "output_type": "stream",
     "text": [
      "No                         231060\n",
      "Yes                         31073\n",
      "No, borderline diabetes      5301\n",
      "Yes (during pregnancy)       2127\n",
      "Name: Diabetic, dtype: int64\n"
     ]
    }
   ],
   "source": [
    "Diabetic_proportions = df_clean['Diabetic'].value_counts()\n",
    "print(Diabetic_proportions)"
   ]
  },
  {
   "cell_type": "code",
   "execution_count": 45,
   "id": "da864a36",
   "metadata": {},
   "outputs": [],
   "source": [
    "# Replace 'No, borderline diabetes' with 'No'\n",
    "df_clean['Diabetic'].replace('No, borderline diabetes', 'No', inplace=True)\n",
    "\n",
    "# Drop rows where 'Diabetic' is 'Yes (during pregnancy)'\n",
    "df_clean = df_clean[df_clean['Diabetic'] != 'Yes (during pregnancy)']"
   ]
  },
  {
   "cell_type": "code",
   "execution_count": 46,
   "id": "61d4e138",
   "metadata": {},
   "outputs": [
    {
     "name": "stdout",
     "output_type": "stream",
     "text": [
      "Yes    211039\n",
      "No      56395\n",
      "Name: PhysicalActivity, dtype: int64\n"
     ]
    }
   ],
   "source": [
    "PhysicalActivity_proportions = df_clean['PhysicalActivity'].value_counts()\n",
    "print(PhysicalActivity_proportions)"
   ]
  },
  {
   "cell_type": "code",
   "execution_count": 47,
   "id": "14059694",
   "metadata": {},
   "outputs": [
    {
     "name": "stdout",
     "output_type": "stream",
     "text": [
      "Very good    98553\n",
      "Good         76222\n",
      "Excellent    58328\n",
      "Fair         26221\n",
      "Poor          8110\n",
      "Name: GenHealth, dtype: int64\n"
     ]
    }
   ],
   "source": [
    "GenHealth_proportions = df_clean['GenHealth'].value_counts()\n",
    "print(GenHealth_proportions)"
   ]
  },
  {
   "cell_type": "code",
   "execution_count": 48,
   "id": "6b202790",
   "metadata": {},
   "outputs": [
    {
     "name": "stdout",
     "output_type": "stream",
     "text": [
      "7     83497\n",
      "8     82845\n",
      "6     55002\n",
      "5     15173\n",
      "9     13306\n",
      "10     6309\n",
      "4      5979\n",
      "12     1694\n",
      "3      1504\n",
      "2       620\n",
      "1       448\n",
      "11      325\n",
      "16      180\n",
      "14      178\n",
      "15      136\n",
      "18       79\n",
      "13       64\n",
      "20       50\n",
      "24       20\n",
      "17       13\n",
      "22        8\n",
      "19        2\n",
      "23        2\n",
      "Name: SleepTime, dtype: int64\n"
     ]
    }
   ],
   "source": [
    "SleepTime_proportions = df_clean['SleepTime'].value_counts()\n",
    "print(SleepTime_proportions)\n"
   ]
  },
  {
   "cell_type": "code",
   "execution_count": 49,
   "id": "df1a3dc4",
   "metadata": {},
   "outputs": [
    {
     "name": "stdout",
     "output_type": "stream",
     "text": [
      "7     83497\n",
      "8     82845\n",
      "6     55002\n",
      "5     15173\n",
      "9     13306\n",
      "10     6309\n",
      "4      5979\n",
      "12     1694\n",
      "3      1504\n",
      "2       620\n",
      "1       448\n",
      "11      325\n",
      "16      180\n",
      "14      178\n",
      "15      136\n",
      "Name: SleepTime, dtype: int64\n"
     ]
    }
   ],
   "source": [
    "threshold = 100\n",
    "\n",
    "# Get the sleep times with less than 100 people and drop!\n",
    "sleep_times_to_drop = SleepTime_proportions[SleepTime_proportions < threshold].index\n",
    "df_clean = df_clean[~df_clean['SleepTime'].isin(sleep_times_to_drop)]\n",
    "\n",
    "SleepTime_proportions = df_clean['SleepTime'].value_counts()\n",
    "print(SleepTime_proportions)"
   ]
  },
  {
   "cell_type": "code",
   "execution_count": 50,
   "id": "bb993a88",
   "metadata": {},
   "outputs": [
    {
     "name": "stdout",
     "output_type": "stream",
     "text": [
      "No     233331\n",
      "Yes     33865\n",
      "Name: Asthma, dtype: int64\n"
     ]
    }
   ],
   "source": [
    "Asthma_proportions = df_clean['Asthma'].value_counts()\n",
    "print(Asthma_proportions)"
   ]
  },
  {
   "cell_type": "code",
   "execution_count": 51,
   "id": "3339383e",
   "metadata": {},
   "outputs": [
    {
     "name": "stdout",
     "output_type": "stream",
     "text": [
      "No     258135\n",
      "Yes      9061\n",
      "Name: KidneyDisease, dtype: int64\n"
     ]
    }
   ],
   "source": [
    "#The weight of proportions with yes in kidney disease is very small\n",
    "KidneyDisease_proportions = df_clean['KidneyDisease'].value_counts()\n",
    "print(KidneyDisease_proportions)"
   ]
  },
  {
   "cell_type": "code",
   "execution_count": 52,
   "id": "b5f9b448",
   "metadata": {},
   "outputs": [
    {
     "name": "stdout",
     "output_type": "stream",
     "text": [
      "No    267196\n",
      "Name: KidneyDisease, dtype: int64\n"
     ]
    }
   ],
   "source": [
    "# Tuning the whole column to no for kidney disease\n",
    "df_clean['KidneyDisease'] = 'No'\n",
    "KidneyDisease_proportions = df_clean['KidneyDisease'].value_counts()\n",
    "print(KidneyDisease_proportions)"
   ]
  },
  {
   "cell_type": "code",
   "execution_count": 53,
   "id": "005079bd",
   "metadata": {},
   "outputs": [
    {
     "name": "stdout",
     "output_type": "stream",
     "text": [
      "No    267196\n",
      "Name: SkinCancer, dtype: int64\n"
     ]
    }
   ],
   "source": [
    "# Tuning entire skincancer column to no\n",
    "df_clean['SkinCancer'] = 'No'\n",
    "SkinCancer_proportions = df_clean['SkinCancer'].value_counts()\n",
    "print(SkinCancer_proportions)"
   ]
  },
  {
   "cell_type": "code",
   "execution_count": 54,
   "id": "18fcb14d",
   "metadata": {},
   "outputs": [
    {
     "name": "stdout",
     "output_type": "stream",
     "text": [
      "<class 'pandas.core.frame.DataFrame'>\n",
      "Int64Index: 267196 entries, 1 to 319792\n",
      "Data columns (total 18 columns):\n",
      " #   Column            Non-Null Count   Dtype  \n",
      "---  ------            --------------   -----  \n",
      " 0   HeartDisease      267196 non-null  object \n",
      " 1   BMI               267196 non-null  float64\n",
      " 2   Smoking           267196 non-null  object \n",
      " 3   AlcoholDrinking   267196 non-null  object \n",
      " 4   Stroke            267196 non-null  object \n",
      " 5   PhysicalHealth    267196 non-null  int64  \n",
      " 6   MentalHealth      267196 non-null  int64  \n",
      " 7   DiffWalking       267196 non-null  object \n",
      " 8   Sex               267196 non-null  object \n",
      " 9   AgeCategory       267196 non-null  object \n",
      " 10  Race              267196 non-null  object \n",
      " 11  Diabetic          267196 non-null  object \n",
      " 12  PhysicalActivity  267196 non-null  object \n",
      " 13  GenHealth         267196 non-null  object \n",
      " 14  SleepTime         267196 non-null  int64  \n",
      " 15  Asthma            267196 non-null  object \n",
      " 16  KidneyDisease     267196 non-null  object \n",
      " 17  SkinCancer        267196 non-null  object \n",
      "dtypes: float64(1), int64(3), object(14)\n",
      "memory usage: 38.7+ MB\n"
     ]
    }
   ],
   "source": [
    "df_clean.info()"
   ]
  },
  {
   "cell_type": "markdown",
   "id": "688f005c",
   "metadata": {},
   "source": [
    "MODEL 2 "
   ]
  },
  {
   "cell_type": "code",
   "execution_count": 55,
   "id": "9b085324",
   "metadata": {},
   "outputs": [],
   "source": [
    "X = df_clean.drop(columns=['HeartDisease'])\n",
    "y = df_clean['HeartDisease']"
   ]
  },
  {
   "cell_type": "code",
   "execution_count": 56,
   "id": "272aeda7",
   "metadata": {},
   "outputs": [],
   "source": [
    "X['AgeCategory'] = X['AgeCategory'].str.extract('(\\d+)').astype(int)"
   ]
  },
  {
   "cell_type": "code",
   "execution_count": 57,
   "id": "9ef8d5b9",
   "metadata": {},
   "outputs": [],
   "source": [
    "binary_cols = ['Smoking','AlcoholDrinking','Stroke','DiffWalking','Diabetic',\n",
    "               'PhysicalActivity','Asthma','KidneyDisease','SkinCancer']\n",
    "\n",
    "for col in binary_cols:\n",
    "    X[col] =LabelEncoder().fit_transform(X[col])"
   ]
  },
  {
   "cell_type": "code",
   "execution_count": 58,
   "id": "b675e9d1",
   "metadata": {},
   "outputs": [],
   "source": [
    "numerical_cols = ['BMI','PhysicalHealth','MentalHealth','SleepTime']\n",
    "scaler = StandardScaler()\n",
    "X[numerical_cols] = scaler.fit_transform(X[numerical_cols])"
   ]
  },
  {
   "cell_type": "code",
   "execution_count": 59,
   "id": "b26a8886",
   "metadata": {},
   "outputs": [],
   "source": [
    "categorical_columns = ['Sex', 'Race', 'GenHealth']\n",
    "X_encoded = pd.get_dummies(X, columns=categorical_columns, drop_first=True)\n",
    "X = X_encoded"
   ]
  },
  {
   "cell_type": "code",
   "execution_count": 60,
   "id": "1ccda8b4",
   "metadata": {},
   "outputs": [
    {
     "data": {
      "text/html": [
       "<div>\n",
       "<style scoped>\n",
       "    .dataframe tbody tr th:only-of-type {\n",
       "        vertical-align: middle;\n",
       "    }\n",
       "\n",
       "    .dataframe tbody tr th {\n",
       "        vertical-align: top;\n",
       "    }\n",
       "\n",
       "    .dataframe thead th {\n",
       "        text-align: right;\n",
       "    }\n",
       "</style>\n",
       "<table border=\"1\" class=\"dataframe\">\n",
       "  <thead>\n",
       "    <tr style=\"text-align: right;\">\n",
       "      <th></th>\n",
       "      <th>BMI</th>\n",
       "      <th>Smoking</th>\n",
       "      <th>AlcoholDrinking</th>\n",
       "      <th>Stroke</th>\n",
       "      <th>PhysicalHealth</th>\n",
       "      <th>MentalHealth</th>\n",
       "      <th>DiffWalking</th>\n",
       "      <th>AgeCategory</th>\n",
       "      <th>Diabetic</th>\n",
       "      <th>PhysicalActivity</th>\n",
       "      <th>...</th>\n",
       "      <th>Asthma</th>\n",
       "      <th>KidneyDisease</th>\n",
       "      <th>SkinCancer</th>\n",
       "      <th>Sex_Male</th>\n",
       "      <th>Race_Hispanic</th>\n",
       "      <th>Race_White</th>\n",
       "      <th>GenHealth_Fair</th>\n",
       "      <th>GenHealth_Good</th>\n",
       "      <th>GenHealth_Poor</th>\n",
       "      <th>GenHealth_Very good</th>\n",
       "    </tr>\n",
       "  </thead>\n",
       "  <tbody>\n",
       "    <tr>\n",
       "      <th>319788</th>\n",
       "      <td>-0.855859</td>\n",
       "      <td>0</td>\n",
       "      <td>0</td>\n",
       "      <td>0</td>\n",
       "      <td>-0.402675</td>\n",
       "      <td>-0.477814</td>\n",
       "      <td>0</td>\n",
       "      <td>60</td>\n",
       "      <td>0</td>\n",
       "      <td>1</td>\n",
       "      <td>...</td>\n",
       "      <td>0</td>\n",
       "      <td>0</td>\n",
       "      <td>0</td>\n",
       "      <td>0</td>\n",
       "      <td>1</td>\n",
       "      <td>0</td>\n",
       "      <td>0</td>\n",
       "      <td>0</td>\n",
       "      <td>0</td>\n",
       "      <td>0</td>\n",
       "    </tr>\n",
       "    <tr>\n",
       "      <th>319789</th>\n",
       "      <td>-1.085094</td>\n",
       "      <td>0</td>\n",
       "      <td>0</td>\n",
       "      <td>0</td>\n",
       "      <td>-0.402675</td>\n",
       "      <td>-0.477814</td>\n",
       "      <td>0</td>\n",
       "      <td>18</td>\n",
       "      <td>0</td>\n",
       "      <td>1</td>\n",
       "      <td>...</td>\n",
       "      <td>0</td>\n",
       "      <td>0</td>\n",
       "      <td>0</td>\n",
       "      <td>0</td>\n",
       "      <td>1</td>\n",
       "      <td>0</td>\n",
       "      <td>0</td>\n",
       "      <td>0</td>\n",
       "      <td>0</td>\n",
       "      <td>0</td>\n",
       "    </tr>\n",
       "    <tr>\n",
       "      <th>319790</th>\n",
       "      <td>-0.059465</td>\n",
       "      <td>1</td>\n",
       "      <td>0</td>\n",
       "      <td>0</td>\n",
       "      <td>0.521211</td>\n",
       "      <td>-0.477814</td>\n",
       "      <td>1</td>\n",
       "      <td>60</td>\n",
       "      <td>1</td>\n",
       "      <td>0</td>\n",
       "      <td>...</td>\n",
       "      <td>1</td>\n",
       "      <td>0</td>\n",
       "      <td>0</td>\n",
       "      <td>1</td>\n",
       "      <td>1</td>\n",
       "      <td>0</td>\n",
       "      <td>1</td>\n",
       "      <td>0</td>\n",
       "      <td>0</td>\n",
       "      <td>0</td>\n",
       "    </tr>\n",
       "    <tr>\n",
       "      <th>319791</th>\n",
       "      <td>0.420743</td>\n",
       "      <td>1</td>\n",
       "      <td>0</td>\n",
       "      <td>0</td>\n",
       "      <td>-0.402675</td>\n",
       "      <td>-0.477814</td>\n",
       "      <td>0</td>\n",
       "      <td>35</td>\n",
       "      <td>0</td>\n",
       "      <td>1</td>\n",
       "      <td>...</td>\n",
       "      <td>1</td>\n",
       "      <td>0</td>\n",
       "      <td>0</td>\n",
       "      <td>1</td>\n",
       "      <td>1</td>\n",
       "      <td>0</td>\n",
       "      <td>0</td>\n",
       "      <td>0</td>\n",
       "      <td>0</td>\n",
       "      <td>1</td>\n",
       "    </tr>\n",
       "    <tr>\n",
       "      <th>319792</th>\n",
       "      <td>-0.685909</td>\n",
       "      <td>0</td>\n",
       "      <td>0</td>\n",
       "      <td>0</td>\n",
       "      <td>-0.402675</td>\n",
       "      <td>-0.477814</td>\n",
       "      <td>0</td>\n",
       "      <td>45</td>\n",
       "      <td>0</td>\n",
       "      <td>1</td>\n",
       "      <td>...</td>\n",
       "      <td>0</td>\n",
       "      <td>0</td>\n",
       "      <td>0</td>\n",
       "      <td>0</td>\n",
       "      <td>1</td>\n",
       "      <td>0</td>\n",
       "      <td>0</td>\n",
       "      <td>1</td>\n",
       "      <td>0</td>\n",
       "      <td>0</td>\n",
       "    </tr>\n",
       "  </tbody>\n",
       "</table>\n",
       "<p>5 rows × 21 columns</p>\n",
       "</div>"
      ],
      "text/plain": [
       "             BMI  Smoking  AlcoholDrinking  Stroke  PhysicalHealth  \\\n",
       "319788 -0.855859        0                0       0       -0.402675   \n",
       "319789 -1.085094        0                0       0       -0.402675   \n",
       "319790 -0.059465        1                0       0        0.521211   \n",
       "319791  0.420743        1                0       0       -0.402675   \n",
       "319792 -0.685909        0                0       0       -0.402675   \n",
       "\n",
       "        MentalHealth  DiffWalking  AgeCategory  Diabetic  PhysicalActivity  \\\n",
       "319788     -0.477814            0           60         0                 1   \n",
       "319789     -0.477814            0           18         0                 1   \n",
       "319790     -0.477814            1           60         1                 0   \n",
       "319791     -0.477814            0           35         0                 1   \n",
       "319792     -0.477814            0           45         0                 1   \n",
       "\n",
       "        ...  Asthma  KidneyDisease  SkinCancer  Sex_Male  Race_Hispanic  \\\n",
       "319788  ...       0              0           0         0              1   \n",
       "319789  ...       0              0           0         0              1   \n",
       "319790  ...       1              0           0         1              1   \n",
       "319791  ...       1              0           0         1              1   \n",
       "319792  ...       0              0           0         0              1   \n",
       "\n",
       "        Race_White  GenHealth_Fair  GenHealth_Good  GenHealth_Poor  \\\n",
       "319788           0               0               0               0   \n",
       "319789           0               0               0               0   \n",
       "319790           0               1               0               0   \n",
       "319791           0               0               0               0   \n",
       "319792           0               0               1               0   \n",
       "\n",
       "        GenHealth_Very good  \n",
       "319788                    0  \n",
       "319789                    0  \n",
       "319790                    0  \n",
       "319791                    1  \n",
       "319792                    0  \n",
       "\n",
       "[5 rows x 21 columns]"
      ]
     },
     "execution_count": 60,
     "metadata": {},
     "output_type": "execute_result"
    }
   ],
   "source": [
    "X.tail()"
   ]
  },
  {
   "cell_type": "code",
   "execution_count": 61,
   "id": "ba49b25a",
   "metadata": {},
   "outputs": [],
   "source": [
    "X = X.astype('float32')"
   ]
  },
  {
   "cell_type": "code",
   "execution_count": 62,
   "id": "fce5ce64",
   "metadata": {},
   "outputs": [
    {
     "name": "stdout",
     "output_type": "stream",
     "text": [
      "267196\n"
     ]
    }
   ],
   "source": [
    "num_rows = len(df_clean)\n",
    "print(num_rows)"
   ]
  },
  {
   "cell_type": "code",
   "execution_count": 63,
   "id": "e20a232d",
   "metadata": {},
   "outputs": [
    {
     "name": "stdout",
     "output_type": "stream",
     "text": [
      "No     245506\n",
      "Yes     21690\n",
      "Name: HeartDisease, dtype: int64\n"
     ]
    }
   ],
   "source": [
    "heart_disease_proportions = df_clean['HeartDisease'].value_counts()\n",
    "print(heart_disease_proportions)"
   ]
  },
  {
   "cell_type": "code",
   "execution_count": 64,
   "id": "eb35c861",
   "metadata": {},
   "outputs": [],
   "source": [
    "X_train,X_test,y_train,y_test = train_test_split(X,y,test_size = 0.2,random_state=42)"
   ]
  },
  {
   "cell_type": "code",
   "execution_count": 65,
   "id": "81a74377",
   "metadata": {},
   "outputs": [],
   "source": [
    "from imblearn.under_sampling import RandomUnderSampler\n",
    "\n",
    "# Initialize RandomUnderSampler\n",
    "undersampler = RandomUnderSampler(random_state=42)\n",
    "\n",
    "# Apply undersampling to the training set\n",
    "X_train_resampled, y_train_resampled = undersampler.fit_resample(X_train, y_train)"
   ]
  },
  {
   "cell_type": "code",
   "execution_count": 66,
   "id": "186323b8",
   "metadata": {},
   "outputs": [
    {
     "name": "stdout",
     "output_type": "stream",
     "text": [
      "No     17364\n",
      "Yes    17364\n",
      "Name: HeartDisease, dtype: int64\n"
     ]
    }
   ],
   "source": [
    "# Convert y_train_resampled to a pandas Series (if it's not already)\n",
    "y_train_resampled_series = pd.Series(y_train_resampled)\n",
    "\n",
    "# Count the proportions of 'Yes' and 'No'\n",
    "proportions = y_train_resampled_series.value_counts()\n",
    "\n",
    "# Print the proportions\n",
    "print(proportions)"
   ]
  },
  {
   "cell_type": "code",
   "execution_count": 67,
   "id": "33bb4a22",
   "metadata": {},
   "outputs": [
    {
     "data": {
      "image/png": "[encoded data removed]",
      "text/plain": [
       "<Figure size 400x400 with 1 Axes>"
      ]
     },
     "metadata": {},
     "output_type": "display_data"
    }
   ],
   "source": [
    "import matplotlib.pyplot as plt\n",
    "\n",
    "labels = proportions.index\n",
    "sizes = proportions.values\n",
    "\n",
    "colors = ['gold', 'lightcoral']\n",
    "\n",
    "explode = (0.1, 0) \n",
    "\n",
    "plt.figure(figsize=(4, 4))\n",
    "plt.pie(sizes, explode=explode, labels=labels, colors=colors, autopct='%1.1f%%', shadow=True, startangle=140)\n",
    "plt.axis('equal')  # Equal aspect ratio ensures that pie is drawn as a circle.\n",
    "\n",
    "plt.title(\"Proportions of Resampled Data\")\n",
    "\n",
    "plt.show()"
   ]
  },
  {
   "cell_type": "code",
   "execution_count": null,
   "id": "cb8f6368",
   "metadata": {},
   "outputs": [],
   "source": [
    "# Selected decision tree and logistic regression(most best performing so far)"
   ]
  },
  {
   "cell_type": "code",
   "execution_count": 68,
   "id": "58bfbf27",
   "metadata": {},
   "outputs": [],
   "source": [
    "model_performance = {}"
   ]
  },
  {
   "cell_type": "code",
   "execution_count": 69,
   "id": "4adf83cd",
   "metadata": {},
   "outputs": [],
   "source": [
    "decision_tree_model = DecisionTreeClassifier(random_state=42)\n",
    "\n",
    "# Train the model on the resampled data\n",
    "decision_tree_model.fit(X_train_resampled, y_train_resampled)\n",
    "\n",
    "# Predict using the test set\n",
    "y_pred = decision_tree_model.predict(X_test)\n",
    "\n",
    "# Calculate performance metrics\n",
    "accuracy = accuracy_score(y_test, y_pred)\n",
    "precision = precision_score(y_test, y_pred, pos_label='Yes')\n",
    "recall = recall_score(y_test, y_pred, pos_label='Yes')\n",
    "f1 = f1_score(y_test, y_pred, pos_label='Yes')\n",
    "\n",
    "# Store the performance metrics in a dictionary\n",
    "model_performance['Decision Tree'] = {\n",
    "        'Accuracy': accuracy,\n",
    "        'Precision': precision,\n",
    "        'Recall': recall,\n",
    "        'F1 Score': f1\n",
    "    }\n"
   ]
  },
  {
   "cell_type": "code",
   "execution_count": 70,
   "id": "f0a43f76",
   "metadata": {},
   "outputs": [
    {
     "name": "stdout",
     "output_type": "stream",
     "text": [
      "              precision    recall  f1-score   support\n",
      "\n",
      "          No       0.96      0.68      0.79     49114\n",
      "         Yes       0.15      0.67      0.25      4326\n",
      "\n",
      "    accuracy                           0.67     53440\n",
      "   macro avg       0.56      0.67      0.52     53440\n",
      "weighted avg       0.89      0.67      0.75     53440\n",
      "\n"
     ]
    }
   ],
   "source": [
    "# Method 1 of visualizing metrics!\n",
    "# The imbalance is still there(as shown by weighed avg)\n",
    "from sklearn.metrics import classification_report\n",
    "\n",
    "print(classification_report(y_test, y_pred))"
   ]
  },
  {
   "cell_type": "code",
   "execution_count": 71,
   "id": "69c02e28",
   "metadata": {},
   "outputs": [],
   "source": [
    "# Initialize Logistic Regression model\n",
    "model = LogisticRegression(max_iter=1000)\n",
    "\n",
    "# Train the model on the resampled data\n",
    "model.fit(X_train_resampled, y_train_resampled)\n",
    "\n",
    "# Make predictions on the test set\n",
    "y_pred = model.predict(X_test)\n",
    "\n",
    "# Calculate performance metrics\n",
    "accuracy = accuracy_score(y_test, y_pred)\n",
    "precision = precision_score(y_test, y_pred, pos_label='Yes')\n",
    "recall = recall_score(y_test, y_pred, pos_label='Yes')\n",
    "f1 = f1_score(y_test, y_pred, pos_label='Yes')\n",
    "\n",
    "# Store performance metrics in the model_performance dictionary\n",
    "model_performance['Logistic Regression'] = {\n",
    "        'Accuracy': accuracy,\n",
    "        'Precision': precision,\n",
    "        'Recall': recall,\n",
    "        'F1 Score': f1\n",
    "    }"
   ]
  },
  {
   "cell_type": "code",
   "execution_count": 72,
   "id": "817513e3",
   "metadata": {},
   "outputs": [
    {
     "name": "stdout",
     "output_type": "stream",
     "text": [
      "Model: Decision Tree\n",
      "Accuracy: 0.6742514970059881\n",
      "Precision: 0.152776303216902\n",
      "Recall: 0.6652797041146555\n",
      "F1 Score: 0.24848903470903125\n",
      "------------------------------\n",
      "Model: Logistic Regression\n",
      "Accuracy: 0.7469498502994012\n",
      "Precision: 0.2132925992892325\n",
      "Recall: 0.7907998150716598\n",
      "F1 Score: 0.3359685735330224\n",
      "------------------------------\n"
     ]
    }
   ],
   "source": [
    "for model_name, metrics in model_performance.items():\n",
    "    print(f'Model: {model_name}')\n",
    "    print(f'Accuracy: {metrics[\"Accuracy\"]}')\n",
    "    print(f'Precision: {metrics[\"Precision\"]}')\n",
    "    print(f'Recall: {metrics[\"Recall\"]}')\n",
    "    print(f'F1 Score: {metrics[\"F1 Score\"]}')\n",
    "    print('-' * 30)"
   ]
  },
  {
   "cell_type": "markdown",
   "id": "bccd9f70",
   "metadata": {},
   "source": [
    "CONCLUSION"
   ]
  },
  {
   "cell_type": "markdown",
   "id": "b5ccdab8",
   "metadata": {},
   "source": [
    "Both versions of the model need improvement"
   ]
  },
  {
   "cell_type": "markdown",
   "id": "213b01b1",
   "metadata": {},
   "source": [
    "A good F1 score is what is mostly needed since this is a medical model"
   ]
  },
  {
   "cell_type": "markdown",
   "id": "8b69be9b",
   "metadata": {},
   "source": [
    "THE END:)"
   ]
  }
 ],
 "metadata": {
  "kernelspec": {
   "display_name": "Python 3 (ipykernel)",
   "language": "python",
   "name": "python3"
  },
  "language_info": {
   "codemirror_mode": {
    "name": "ipython",
    "version": 3
   },
   "file_extension": ".py",
   "mimetype": "text/x-python",
   "name": "python",
   "nbconvert_exporter": "python",
   "pygments_lexer": "ipython3",
   "version": "3.10.9"
  }
 },
 "nbformat": 4,
 "nbformat_minor": 5
}
