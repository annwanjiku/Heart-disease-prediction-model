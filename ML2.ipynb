{
 "cells": [
  {
   "cell_type": "markdown",
   "id": "1caf8508",
   "metadata": {},
   "source": [
    "MODEL 2"
   ]
  },
  {
   "cell_type": "markdown",
   "id": "0dd214b9",
   "metadata": {},
   "source": [
    "Cleaning the data before modelling and understanding contribution of each column to the model"
   ]
  },
  {
   "cell_type": "markdown",
   "id": "d6fc53cf",
   "metadata": {},
   "source": [
    "DATA PRE-PROCESSING"
   ]
  },
  {
   "cell_type": "code",
   "execution_count": 1,
   "id": "67d1eec2",
   "metadata": {},
   "outputs": [],
   "source": [
    "import numpy as np\n",
    "import pandas as pd\n",
    "import matplotlib.pyplot as plt\n",
    "import seaborn as sns\n",
    "\n",
    "from sklearn.model_selection import train_test_split\n",
    "from sklearn.preprocessing import StandardScaler,OneHotEncoder,LabelEncoder\n",
    "from sklearn.linear_model import LogisticRegression\n",
    "from sklearn.tree import DecisionTreeClassifier\n",
    "from sklearn.ensemble import RandomForestClassifier\n",
    "from sklearn.ensemble import GradientBoostingClassifier\n",
    "from sklearn.neural_network import MLPClassifier\n",
    "from sklearn.metrics import accuracy_score,precision_score,recall_score,f1_score\n",
    "\n",
    "file_path = 'downloads/heart/heart_2020_cleaned.csv'\n",
    "df = pd.read_csv(file_path)"
   ]
  },
  {
   "cell_type": "code",
   "execution_count": 2,
   "id": "b0bd6269",
   "metadata": {},
   "outputs": [
    {
     "data": {
      "text/plain": [
       "Index(['HeartDisease', 'BMI', 'Smoking', 'AlcoholDrinking', 'Stroke',\n",
       "       'PhysicalHealth', 'MentalHealth', 'DiffWalking', 'Sex', 'AgeCategory',\n",
       "       'Race', 'Diabetic', 'PhysicalActivity', 'GenHealth', 'SleepTime',\n",
       "       'Asthma', 'KidneyDisease', 'SkinCancer'],\n",
       "      dtype='object')"
      ]
     },
     "execution_count": 2,
     "metadata": {},
     "output_type": "execute_result"
    }
   ],
   "source": [
    "df.columns"
   ]
  },
  {
   "cell_type": "code",
   "execution_count": 3,
   "id": "24747ddb",
   "metadata": {},
   "outputs": [
    {
     "data": {
      "text/plain": [
       "HeartDisease        319795\n",
       "BMI                 319795\n",
       "Smoking             319795\n",
       "AlcoholDrinking     319795\n",
       "Stroke              319795\n",
       "PhysicalHealth      319795\n",
       "MentalHealth        319795\n",
       "DiffWalking         319795\n",
       "Sex                 319795\n",
       "AgeCategory         319795\n",
       "Race                319795\n",
       "Diabetic            319795\n",
       "PhysicalActivity    319795\n",
       "GenHealth           319795\n",
       "SleepTime           319795\n",
       "Asthma              319795\n",
       "KidneyDisease       319795\n",
       "SkinCancer          319795\n",
       "dtype: int64"
      ]
     },
     "execution_count": 3,
     "metadata": {},
     "output_type": "execute_result"
    }
   ],
   "source": [
    "df.count().T"
   ]
  },
  {
   "cell_type": "code",
   "execution_count": 4,
   "id": "fc68db89",
   "metadata": {},
   "outputs": [
    {
     "name": "stdout",
     "output_type": "stream",
     "text": [
      "18078\n"
     ]
    }
   ],
   "source": [
    "row_duplicate_counts = df[df.duplicated].shape[0]\n",
    "print(row_duplicate_counts)\n"
   ]
  },
  {
   "cell_type": "code",
   "execution_count": 5,
   "id": "e48a2e2d",
   "metadata": {},
   "outputs": [],
   "source": [
    "df_clean = df.drop_duplicates()"
   ]
  },
  {
   "cell_type": "markdown",
   "id": "3667bd22",
   "metadata": {},
   "source": [
    "MODEL PREPARATION"
   ]
  },
  {
   "cell_type": "code",
   "execution_count": 7,
   "id": "3988b7cc",
   "metadata": {},
   "outputs": [
    {
     "name": "stdout",
     "output_type": "stream",
     "text": [
      "<class 'pandas.core.frame.DataFrame'>\n",
      "Int64Index: 301717 entries, 0 to 319794\n",
      "Data columns (total 17 columns):\n",
      " #   Column            Non-Null Count   Dtype  \n",
      "---  ------            --------------   -----  \n",
      " 0   BMI               301717 non-null  float64\n",
      " 1   Smoking           301717 non-null  object \n",
      " 2   AlcoholDrinking   301717 non-null  object \n",
      " 3   Stroke            301717 non-null  object \n",
      " 4   PhysicalHealth    301717 non-null  int64  \n",
      " 5   MentalHealth      301717 non-null  int64  \n",
      " 6   DiffWalking       301717 non-null  object \n",
      " 7   Sex               301717 non-null  object \n",
      " 8   AgeCategory       301717 non-null  object \n",
      " 9   Race              301717 non-null  object \n",
      " 10  Diabetic          301717 non-null  object \n",
      " 11  PhysicalActivity  301717 non-null  object \n",
      " 12  GenHealth         301717 non-null  object \n",
      " 13  SleepTime         301717 non-null  int64  \n",
      " 14  Asthma            301717 non-null  object \n",
      " 15  KidneyDisease     301717 non-null  object \n",
      " 16  SkinCancer        301717 non-null  object \n",
      "dtypes: float64(1), int64(3), object(13)\n",
      "memory usage: 41.4+ MB\n"
     ]
    }
   ],
   "source": [
    "X.info()"
   ]
  },
  {
   "cell_type": "code",
   "execution_count": 6,
   "id": "575ce3c1",
   "metadata": {},
   "outputs": [
    {
     "name": "stdout",
     "output_type": "stream",
     "text": [
      "301717\n"
     ]
    }
   ],
   "source": [
    "num_rows = len(df_clean)\n",
    "print(num_rows)"
   ]
  },
  {
   "cell_type": "code",
   "execution_count": 7,
   "id": "edb28321",
   "metadata": {},
   "outputs": [
    {
     "name": "stdout",
     "output_type": "stream",
     "text": [
      "No     274456\n",
      "Yes     27261\n",
      "Name: HeartDisease, dtype: int64\n"
     ]
    }
   ],
   "source": [
    "heart_disease_proportions = df_clean['HeartDisease'].value_counts()\n",
    "print(heart_disease_proportions)"
   ]
  },
  {
   "cell_type": "code",
   "execution_count": 8,
   "id": "154f3f4d",
   "metadata": {},
   "outputs": [],
   "source": [
    "#Get the counts of each 'BMI' value\n",
    "bmi_proportions = df_clean['BMI'].value_counts()\n",
    "\n",
    "#Identify values with counts less than 100\n",
    "values_to_drop = bmi_proportions[bmi_proportions < 100].index\n",
    "\n",
    "#Drop rows with those values\n",
    "df_clean = df_clean[~df_clean['BMI'].isin(values_to_drop)]\n"
   ]
  },
  {
   "cell_type": "code",
   "execution_count": 9,
   "id": "793eb42d",
   "metadata": {},
   "outputs": [
    {
     "name": "stdout",
     "output_type": "stream",
     "text": [
      "252350\n"
     ]
    }
   ],
   "source": [
    "num_rows = len(df_clean)\n",
    "print(num_rows)"
   ]
  },
  {
   "cell_type": "code",
   "execution_count": 10,
   "id": "c2131fcf",
   "metadata": {},
   "outputs": [
    {
     "name": "stdout",
     "output_type": "stream",
     "text": [
      "No     146007\n",
      "Yes    106343\n",
      "Name: Smoking, dtype: int64\n"
     ]
    }
   ],
   "source": [
    "smoking_proportions = df_clean['Smoking'].value_counts()\n",
    "print(smoking_proportions)"
   ]
  },
  {
   "cell_type": "code",
   "execution_count": 11,
   "id": "bfd51f08",
   "metadata": {},
   "outputs": [
    {
     "name": "stdout",
     "output_type": "stream",
     "text": [
      "No     233598\n",
      "Yes     18752\n",
      "Name: AlcoholDrinking, dtype: int64\n"
     ]
    }
   ],
   "source": [
    "Alcohol_drinking_proportions = df_clean['AlcoholDrinking'].value_counts()\n",
    "print(Alcohol_drinking_proportions)"
   ]
  },
  {
   "cell_type": "code",
   "execution_count": 12,
   "id": "1272f46b",
   "metadata": {},
   "outputs": [],
   "source": [
    "# Drop the 'AlcoholDrinking' column\n",
    "df_clean = df_clean.drop(columns=['AlcoholDrinking'])"
   ]
  },
  {
   "cell_type": "code",
   "execution_count": 13,
   "id": "8aafc50b",
   "metadata": {},
   "outputs": [
    {
     "name": "stdout",
     "output_type": "stream",
     "text": [
      "No     242654\n",
      "Yes      9696\n",
      "Name: Stroke, dtype: int64\n"
     ]
    }
   ],
   "source": [
    "Stroke_proportions = df_clean['Stroke'].value_counts()\n",
    "print(Stroke_proportions)"
   ]
  },
  {
   "cell_type": "code",
   "execution_count": 14,
   "id": "925ca7f9",
   "metadata": {},
   "outputs": [],
   "source": [
    "df_clean = df_clean.drop(columns=['Stroke'])"
   ]
  },
  {
   "cell_type": "code",
   "execution_count": 15,
   "id": "e506473e",
   "metadata": {},
   "outputs": [],
   "source": [
    "physical_health_proportions = df_clean['PhysicalHealth'].value_counts()\n",
    "values_to_drop = physical_health_proportions[physical_health_proportions < 100].index\n",
    "df_clean = df_clean[~df_clean['PhysicalHealth'].isin(values_to_drop)]\n"
   ]
  },
  {
   "cell_type": "code",
   "execution_count": 16,
   "id": "0bdc911a",
   "metadata": {},
   "outputs": [
    {
     "name": "stdout",
     "output_type": "stream",
     "text": [
      "0     177341\n",
      "30     14896\n",
      "2      12506\n",
      "1       8919\n",
      "3       7114\n",
      "5       6258\n",
      "10      4314\n",
      "15      3903\n",
      "7       3794\n",
      "4       3625\n",
      "20      2441\n",
      "14      2276\n",
      "6       1015\n",
      "25       895\n",
      "8        725\n",
      "21       472\n",
      "12       463\n",
      "28       339\n",
      "29       151\n",
      "9        139\n",
      "18       134\n",
      "16       100\n",
      "Name: PhysicalHealth, dtype: int64\n"
     ]
    }
   ],
   "source": [
    "PhysicalHealth_proportions = df_clean['PhysicalHealth'].value_counts()\n",
    "print(PhysicalHealth_proportions)"
   ]
  },
  {
   "cell_type": "code",
   "execution_count": 17,
   "id": "a125754d",
   "metadata": {},
   "outputs": [],
   "source": [
    "mental_health_proportions = df_clean['MentalHealth'].value_counts()\n",
    "values_to_drop = mental_health_proportions[mental_health_proportions < 100].index\n",
    "df_clean = df_clean[~df_clean['MentalHealth'].isin(values_to_drop)]"
   ]
  },
  {
   "cell_type": "code",
   "execution_count": 18,
   "id": "24b805ad",
   "metadata": {},
   "outputs": [
    {
     "name": "stdout",
     "output_type": "stream",
     "text": [
      "0     157627\n",
      "2      13761\n",
      "30     13650\n",
      "5      11911\n",
      "3       8750\n",
      "10      8715\n",
      "15      8118\n",
      "1       7835\n",
      "7       4626\n",
      "4       4500\n",
      "20      4444\n",
      "14      1630\n",
      "25      1556\n",
      "6       1238\n",
      "8        873\n",
      "12       596\n",
      "28       415\n",
      "21       286\n",
      "29       264\n",
      "18       180\n",
      "9        166\n",
      "16       115\n",
      "Name: MentalHealth, dtype: int64\n"
     ]
    }
   ],
   "source": [
    "MentalHealth_proportions = df_clean['MentalHealth'].value_counts()\n",
    "print(MentalHealth_proportions)"
   ]
  },
  {
   "cell_type": "code",
   "execution_count": 19,
   "id": "f6a1d399",
   "metadata": {},
   "outputs": [
    {
     "name": "stdout",
     "output_type": "stream",
     "text": [
      "251256\n"
     ]
    }
   ],
   "source": [
    "num_rows = len(df_clean)\n",
    "print(num_rows)"
   ]
  },
  {
   "cell_type": "code",
   "execution_count": 20,
   "id": "5ebce5db",
   "metadata": {},
   "outputs": [
    {
     "name": "stdout",
     "output_type": "stream",
     "text": [
      "No     218328\n",
      "Yes     32928\n",
      "Name: DiffWalking, dtype: int64\n"
     ]
    }
   ],
   "source": [
    "DiffWalking_proportions = df_clean['DiffWalking'].value_counts()\n",
    "print(DiffWalking_proportions)"
   ]
  },
  {
   "cell_type": "code",
   "execution_count": 21,
   "id": "412f49b6",
   "metadata": {},
   "outputs": [],
   "source": [
    "df_clean = df_clean.drop(columns=['DiffWalking'])"
   ]
  },
  {
   "cell_type": "code",
   "execution_count": 22,
   "id": "8e0e1816",
   "metadata": {},
   "outputs": [
    {
     "name": "stdout",
     "output_type": "stream",
     "text": [
      "Female    131259\n",
      "Male      119997\n",
      "Name: Sex, dtype: int64\n"
     ]
    }
   ],
   "source": [
    "Sex_proportions = df_clean['Sex'].value_counts()\n",
    "print(Sex_proportions)"
   ]
  },
  {
   "cell_type": "code",
   "execution_count": 23,
   "id": "0971241e",
   "metadata": {},
   "outputs": [
    {
     "name": "stdout",
     "output_type": "stream",
     "text": [
      "65-69          26043\n",
      "60-64          25711\n",
      "70-74          24303\n",
      "55-59          22850\n",
      "50-54          19583\n",
      "80 or older    19446\n",
      "75-79          17213\n",
      "45-49          17085\n",
      "18-24          16885\n",
      "40-44          16669\n",
      "35-39          16445\n",
      "30-34          15112\n",
      "25-29          13911\n",
      "Name: AgeCategory, dtype: int64\n"
     ]
    }
   ],
   "source": [
    "AgeCategory_proportions = df_clean['AgeCategory'].value_counts()\n",
    "print(AgeCategory_proportions)"
   ]
  },
  {
   "cell_type": "code",
   "execution_count": 24,
   "id": "ec477200",
   "metadata": {},
   "outputs": [
    {
     "name": "stdout",
     "output_type": "stream",
     "text": [
      "White                             191968\n",
      "Hispanic                           21745\n",
      "Black                              17762\n",
      "Other                               8904\n",
      "Asian                               6652\n",
      "American Indian/Alaskan Native      4225\n",
      "Name: Race, dtype: int64\n"
     ]
    }
   ],
   "source": [
    "Race_proportions = df_clean['Race'].value_counts()\n",
    "print(Race_proportions)"
   ]
  },
  {
   "cell_type": "code",
   "execution_count": 25,
   "id": "92db0a2a",
   "metadata": {},
   "outputs": [],
   "source": [
    "# Define the races to keep\n",
    "races_to_keep = ['White', 'Black']\n",
    "\n",
    "# Filter the DataFrame to keep only the specified races\n",
    "df_clean = df_clean[df_clean['Race'].isin(races_to_keep)]"
   ]
  },
  {
   "cell_type": "code",
   "execution_count": 26,
   "id": "6fab73fe",
   "metadata": {},
   "outputs": [
    {
     "name": "stdout",
     "output_type": "stream",
     "text": [
      "White    191968\n",
      "Black     17762\n",
      "Name: Race, dtype: int64\n"
     ]
    }
   ],
   "source": [
    "Race_proportions = df_clean['Race'].value_counts()\n",
    "print(Race_proportions)"
   ]
  },
  {
   "cell_type": "code",
   "execution_count": 27,
   "id": "e293fcad",
   "metadata": {},
   "outputs": [
    {
     "name": "stdout",
     "output_type": "stream",
     "text": [
      "No                         178352\n",
      "Yes                         25722\n",
      "No, borderline diabetes      4028\n",
      "Yes (during pregnancy)       1628\n",
      "Name: Diabetic, dtype: int64\n"
     ]
    }
   ],
   "source": [
    "Diabetic_proportions = df_clean['Diabetic'].value_counts()\n",
    "print(Diabetic_proportions)"
   ]
  },
  {
   "cell_type": "code",
   "execution_count": 28,
   "id": "cf097040",
   "metadata": {},
   "outputs": [],
   "source": [
    "# Replace 'No, borderline diabetes' with 'No'\n",
    "df_clean['Diabetic'].replace('No, borderline diabetes', 'No', inplace=True)\n",
    "\n",
    "# Drop rows where 'Diabetic' is 'Yes (during pregnancy)'\n",
    "df_clean = df_clean[df_clean['Diabetic'] != 'Yes (during pregnancy)']"
   ]
  },
  {
   "cell_type": "code",
   "execution_count": 29,
   "id": "491567a4",
   "metadata": {
    "scrolled": true
   },
   "outputs": [
    {
     "name": "stdout",
     "output_type": "stream",
     "text": [
      "No     182380\n",
      "Yes     25722\n",
      "Name: Diabetic, dtype: int64\n"
     ]
    }
   ],
   "source": [
    "Diabetic_proportions = df_clean['Diabetic'].value_counts()\n",
    "print(Diabetic_proportions)"
   ]
  },
  {
   "cell_type": "code",
   "execution_count": 30,
   "id": "73c5e1f8",
   "metadata": {},
   "outputs": [],
   "source": [
    "df_clean = df_clean.drop(columns=['Diabetic'])"
   ]
  },
  {
   "cell_type": "code",
   "execution_count": 31,
   "id": "65545ec6",
   "metadata": {},
   "outputs": [
    {
     "name": "stdout",
     "output_type": "stream",
     "text": [
      "208102\n"
     ]
    }
   ],
   "source": [
    "num_rows = len(df_clean)\n",
    "print(num_rows)"
   ]
  },
  {
   "cell_type": "code",
   "execution_count": 32,
   "id": "3b727c97",
   "metadata": {},
   "outputs": [
    {
     "name": "stdout",
     "output_type": "stream",
     "text": [
      "Yes    162628\n",
      "No      45474\n",
      "Name: PhysicalActivity, dtype: int64\n"
     ]
    }
   ],
   "source": [
    "PhysicalActivity_proportions = df_clean['PhysicalActivity'].value_counts()\n",
    "print(PhysicalActivity_proportions)"
   ]
  },
  {
   "cell_type": "code",
   "execution_count": 33,
   "id": "6e2b68ff",
   "metadata": {},
   "outputs": [
    {
     "name": "stdout",
     "output_type": "stream",
     "text": [
      "Very good    77259\n",
      "Good         61294\n",
      "Excellent    41685\n",
      "Fair         21058\n",
      "Poor          6806\n",
      "Name: GenHealth, dtype: int64\n"
     ]
    }
   ],
   "source": [
    "GenHealth_proportions = df_clean['GenHealth'].value_counts()\n",
    "print(GenHealth_proportions)"
   ]
  },
  {
   "cell_type": "code",
   "execution_count": 34,
   "id": "65eb69db",
   "metadata": {},
   "outputs": [
    {
     "name": "stdout",
     "output_type": "stream",
     "text": [
      "7     63618\n",
      "8     63276\n",
      "6     43405\n",
      "5     12064\n",
      "9     11373\n",
      "10     5355\n",
      "4      4693\n",
      "12     1416\n",
      "3      1193\n",
      "2       497\n",
      "1       345\n",
      "11      270\n",
      "14      146\n",
      "16      144\n",
      "15      114\n",
      "18       69\n",
      "13       52\n",
      "20       38\n",
      "24       14\n",
      "17       11\n",
      "22        6\n",
      "23        2\n",
      "19        1\n",
      "Name: SleepTime, dtype: int64\n"
     ]
    }
   ],
   "source": [
    "SleepTime_proportions = df_clean['SleepTime'].value_counts()\n",
    "print(SleepTime_proportions)"
   ]
  },
  {
   "cell_type": "code",
   "execution_count": 35,
   "id": "4a606e68",
   "metadata": {},
   "outputs": [
    {
     "name": "stdout",
     "output_type": "stream",
     "text": [
      "7     63618\n",
      "8     63276\n",
      "6     43405\n",
      "5     12064\n",
      "9     11373\n",
      "10     5355\n",
      "4      4693\n",
      "12     1416\n",
      "3      1193\n",
      "Name: SleepTime, dtype: int64\n"
     ]
    }
   ],
   "source": [
    "# Define the threshold\n",
    "threshold = 1000\n",
    "\n",
    "# Get the sleep times with less than 100 people\n",
    "sleep_times_to_drop = SleepTime_proportions[SleepTime_proportions < threshold].index\n",
    "\n",
    "# Drop rows where 'SleepTime' is in sleep_times_to_drop\n",
    "df_clean = df_clean[~df_clean['SleepTime'].isin(sleep_times_to_drop)]\n",
    "\n",
    "SleepTime_proportions = df_clean['SleepTime'].value_counts()\n",
    "print(SleepTime_proportions)"
   ]
  },
  {
   "cell_type": "code",
   "execution_count": 36,
   "id": "b713dae9",
   "metadata": {},
   "outputs": [
    {
     "name": "stdout",
     "output_type": "stream",
     "text": [
      "No     178769\n",
      "Yes     27624\n",
      "Name: Asthma, dtype: int64\n"
     ]
    }
   ],
   "source": [
    "Asthma_proportions = df_clean['Asthma'].value_counts()\n",
    "print(Asthma_proportions)"
   ]
  },
  {
   "cell_type": "code",
   "execution_count": 37,
   "id": "41331cb4",
   "metadata": {},
   "outputs": [
    {
     "name": "stdout",
     "output_type": "stream",
     "text": [
      "No     198566\n",
      "Yes      7827\n",
      "Name: KidneyDisease, dtype: int64\n"
     ]
    }
   ],
   "source": [
    "KidneyDisease_proportions = df_clean['KidneyDisease'].value_counts()\n",
    "df_clean['KidneyDisease'] = 'No'\n",
    "print(KidneyDisease_proportions)"
   ]
  },
  {
   "cell_type": "code",
   "execution_count": 38,
   "id": "c08d596c",
   "metadata": {},
   "outputs": [
    {
     "name": "stdout",
     "output_type": "stream",
     "text": [
      "No    206393\n",
      "Name: SkinCancer, dtype: int64\n"
     ]
    }
   ],
   "source": [
    "df_clean['SkinCancer'] = 'No'\n",
    "SkinCancer_proportions = df_clean['SkinCancer'].value_counts()\n",
    "print(SkinCancer_proportions)"
   ]
  },
  {
   "cell_type": "code",
   "execution_count": 39,
   "id": "c8e149be",
   "metadata": {},
   "outputs": [
    {
     "name": "stdout",
     "output_type": "stream",
     "text": [
      "206393\n"
     ]
    }
   ],
   "source": [
    "num_rows = len(df_clean)\n",
    "print(num_rows)"
   ]
  },
  {
   "cell_type": "code",
   "execution_count": 40,
   "id": "bc3970f7",
   "metadata": {},
   "outputs": [
    {
     "name": "stdout",
     "output_type": "stream",
     "text": [
      "<class 'pandas.core.frame.DataFrame'>\n",
      "Int64Index: 206393 entries, 1 to 319603\n",
      "Data columns (total 14 columns):\n",
      " #   Column            Non-Null Count   Dtype  \n",
      "---  ------            --------------   -----  \n",
      " 0   HeartDisease      206393 non-null  object \n",
      " 1   BMI               206393 non-null  float64\n",
      " 2   Smoking           206393 non-null  object \n",
      " 3   PhysicalHealth    206393 non-null  int64  \n",
      " 4   MentalHealth      206393 non-null  int64  \n",
      " 5   Sex               206393 non-null  object \n",
      " 6   AgeCategory       206393 non-null  object \n",
      " 7   Race              206393 non-null  object \n",
      " 8   PhysicalActivity  206393 non-null  object \n",
      " 9   GenHealth         206393 non-null  object \n",
      " 10  SleepTime         206393 non-null  int64  \n",
      " 11  Asthma            206393 non-null  object \n",
      " 12  KidneyDisease     206393 non-null  object \n",
      " 13  SkinCancer        206393 non-null  object \n",
      "dtypes: float64(1), int64(3), object(10)\n",
      "memory usage: 23.6+ MB\n"
     ]
    }
   ],
   "source": [
    "df_clean.info()"
   ]
  },
  {
   "cell_type": "code",
   "execution_count": 41,
   "id": "1a3cff79",
   "metadata": {},
   "outputs": [
    {
     "data": {
      "text/plain": [
       "HeartDisease        0\n",
       "BMI                 0\n",
       "Smoking             0\n",
       "PhysicalHealth      0\n",
       "MentalHealth        0\n",
       "Sex                 0\n",
       "AgeCategory         0\n",
       "Race                0\n",
       "PhysicalActivity    0\n",
       "GenHealth           0\n",
       "SleepTime           0\n",
       "Asthma              0\n",
       "KidneyDisease       0\n",
       "SkinCancer          0\n",
       "dtype: int64"
      ]
     },
     "execution_count": 41,
     "metadata": {},
     "output_type": "execute_result"
    }
   ],
   "source": [
    "df_clean.isnull().sum()"
   ]
  },
  {
   "cell_type": "code",
   "execution_count": 42,
   "id": "e18764f3",
   "metadata": {},
   "outputs": [
    {
     "data": {
      "text/plain": [
       "Index(['HeartDisease', 'BMI', 'Smoking', 'PhysicalHealth', 'MentalHealth',\n",
       "       'Sex', 'AgeCategory', 'Race', 'PhysicalActivity', 'GenHealth',\n",
       "       'SleepTime', 'Asthma', 'KidneyDisease', 'SkinCancer'],\n",
       "      dtype='object')"
      ]
     },
     "execution_count": 42,
     "metadata": {},
     "output_type": "execute_result"
    }
   ],
   "source": [
    "df_clean.columns"
   ]
  },
  {
   "cell_type": "code",
   "execution_count": 43,
   "id": "d260bd08",
   "metadata": {},
   "outputs": [],
   "source": [
    "X = df_clean.drop(columns=['HeartDisease'],axis =1)\n",
    "y = df_clean['HeartDisease']"
   ]
  },
  {
   "cell_type": "code",
   "execution_count": 44,
   "id": "a2d5e2cc",
   "metadata": {},
   "outputs": [],
   "source": [
    "X['AgeCategory'] = X['AgeCategory'].str.extract('(\\d+)').astype(int)"
   ]
  },
  {
   "cell_type": "code",
   "execution_count": 45,
   "id": "52560fa8",
   "metadata": {},
   "outputs": [],
   "source": [
    "binary_cols = ['Smoking','PhysicalActivity','Asthma','KidneyDisease','SkinCancer']\n",
    "\n",
    "for col in binary_cols:\n",
    "    X[col] =LabelEncoder().fit_transform(X[col])"
   ]
  },
  {
   "cell_type": "code",
   "execution_count": 46,
   "id": "b52ec742",
   "metadata": {},
   "outputs": [],
   "source": [
    "categorical_columns = ['Sex', 'Race', 'GenHealth']\n",
    "X_encoded = pd.get_dummies(X, columns=categorical_columns, drop_first=True)\n",
    "X = X_encoded"
   ]
  },
  {
   "cell_type": "code",
   "execution_count": 47,
   "id": "5bad2c1f",
   "metadata": {},
   "outputs": [
    {
     "data": {
      "text/html": [
       "<div>\n",
       "<style scoped>\n",
       "    .dataframe tbody tr th:only-of-type {\n",
       "        vertical-align: middle;\n",
       "    }\n",
       "\n",
       "    .dataframe tbody tr th {\n",
       "        vertical-align: top;\n",
       "    }\n",
       "\n",
       "    .dataframe thead th {\n",
       "        text-align: right;\n",
       "    }\n",
       "</style>\n",
       "<table border=\"1\" class=\"dataframe\">\n",
       "  <thead>\n",
       "    <tr style=\"text-align: right;\">\n",
       "      <th></th>\n",
       "      <th>BMI</th>\n",
       "      <th>Smoking</th>\n",
       "      <th>PhysicalHealth</th>\n",
       "      <th>MentalHealth</th>\n",
       "      <th>AgeCategory</th>\n",
       "      <th>PhysicalActivity</th>\n",
       "      <th>SleepTime</th>\n",
       "      <th>Asthma</th>\n",
       "      <th>KidneyDisease</th>\n",
       "      <th>SkinCancer</th>\n",
       "      <th>Sex_Male</th>\n",
       "      <th>Race_White</th>\n",
       "      <th>GenHealth_Fair</th>\n",
       "      <th>GenHealth_Good</th>\n",
       "      <th>GenHealth_Poor</th>\n",
       "      <th>GenHealth_Very good</th>\n",
       "    </tr>\n",
       "  </thead>\n",
       "  <tbody>\n",
       "    <tr>\n",
       "      <th>1</th>\n",
       "      <td>20.34</td>\n",
       "      <td>0</td>\n",
       "      <td>0</td>\n",
       "      <td>0</td>\n",
       "      <td>80</td>\n",
       "      <td>1</td>\n",
       "      <td>7</td>\n",
       "      <td>0</td>\n",
       "      <td>0</td>\n",
       "      <td>0</td>\n",
       "      <td>0</td>\n",
       "      <td>1</td>\n",
       "      <td>0</td>\n",
       "      <td>0</td>\n",
       "      <td>0</td>\n",
       "      <td>1</td>\n",
       "    </tr>\n",
       "    <tr>\n",
       "      <th>2</th>\n",
       "      <td>26.58</td>\n",
       "      <td>1</td>\n",
       "      <td>20</td>\n",
       "      <td>30</td>\n",
       "      <td>65</td>\n",
       "      <td>1</td>\n",
       "      <td>8</td>\n",
       "      <td>1</td>\n",
       "      <td>0</td>\n",
       "      <td>0</td>\n",
       "      <td>1</td>\n",
       "      <td>1</td>\n",
       "      <td>1</td>\n",
       "      <td>0</td>\n",
       "      <td>0</td>\n",
       "      <td>0</td>\n",
       "    </tr>\n",
       "    <tr>\n",
       "      <th>3</th>\n",
       "      <td>24.21</td>\n",
       "      <td>0</td>\n",
       "      <td>0</td>\n",
       "      <td>0</td>\n",
       "      <td>75</td>\n",
       "      <td>0</td>\n",
       "      <td>6</td>\n",
       "      <td>0</td>\n",
       "      <td>0</td>\n",
       "      <td>0</td>\n",
       "      <td>0</td>\n",
       "      <td>1</td>\n",
       "      <td>0</td>\n",
       "      <td>1</td>\n",
       "      <td>0</td>\n",
       "      <td>0</td>\n",
       "    </tr>\n",
       "    <tr>\n",
       "      <th>4</th>\n",
       "      <td>23.71</td>\n",
       "      <td>0</td>\n",
       "      <td>28</td>\n",
       "      <td>0</td>\n",
       "      <td>40</td>\n",
       "      <td>1</td>\n",
       "      <td>8</td>\n",
       "      <td>0</td>\n",
       "      <td>0</td>\n",
       "      <td>0</td>\n",
       "      <td>0</td>\n",
       "      <td>1</td>\n",
       "      <td>0</td>\n",
       "      <td>0</td>\n",
       "      <td>0</td>\n",
       "      <td>1</td>\n",
       "    </tr>\n",
       "    <tr>\n",
       "      <th>5</th>\n",
       "      <td>28.87</td>\n",
       "      <td>1</td>\n",
       "      <td>6</td>\n",
       "      <td>0</td>\n",
       "      <td>75</td>\n",
       "      <td>0</td>\n",
       "      <td>12</td>\n",
       "      <td>0</td>\n",
       "      <td>0</td>\n",
       "      <td>0</td>\n",
       "      <td>0</td>\n",
       "      <td>0</td>\n",
       "      <td>1</td>\n",
       "      <td>0</td>\n",
       "      <td>0</td>\n",
       "      <td>0</td>\n",
       "    </tr>\n",
       "  </tbody>\n",
       "</table>\n",
       "</div>"
      ],
      "text/plain": [
       "     BMI  Smoking  PhysicalHealth  MentalHealth  AgeCategory  \\\n",
       "1  20.34        0               0             0           80   \n",
       "2  26.58        1              20            30           65   \n",
       "3  24.21        0               0             0           75   \n",
       "4  23.71        0              28             0           40   \n",
       "5  28.87        1               6             0           75   \n",
       "\n",
       "   PhysicalActivity  SleepTime  Asthma  KidneyDisease  SkinCancer  Sex_Male  \\\n",
       "1                 1          7       0              0           0         0   \n",
       "2                 1          8       1              0           0         1   \n",
       "3                 0          6       0              0           0         0   \n",
       "4                 1          8       0              0           0         0   \n",
       "5                 0         12       0              0           0         0   \n",
       "\n",
       "   Race_White  GenHealth_Fair  GenHealth_Good  GenHealth_Poor  \\\n",
       "1           1               0               0               0   \n",
       "2           1               1               0               0   \n",
       "3           1               0               1               0   \n",
       "4           1               0               0               0   \n",
       "5           0               1               0               0   \n",
       "\n",
       "   GenHealth_Very good  \n",
       "1                    1  \n",
       "2                    0  \n",
       "3                    0  \n",
       "4                    1  \n",
       "5                    0  "
      ]
     },
     "execution_count": 47,
     "metadata": {},
     "output_type": "execute_result"
    }
   ],
   "source": [
    "X.head()"
   ]
  },
  {
   "cell_type": "code",
   "execution_count": 48,
   "id": "1e84c560",
   "metadata": {},
   "outputs": [],
   "source": [
    "X_train,X_test,y_train,y_test = train_test_split(X,y,test_size = 0.2,random_state=42)"
   ]
  },
  {
   "cell_type": "code",
   "execution_count": 49,
   "id": "8028b3ee",
   "metadata": {},
   "outputs": [],
   "source": [
    "from imblearn.under_sampling import RandomUnderSampler\n",
    "\n",
    "# Initialize RandomUnderSampler\n",
    "undersampler = RandomUnderSampler(random_state=42)\n",
    "\n",
    "# Apply undersampling to the training set\n",
    "X_train_resampled, y_train_resampled = undersampler.fit_resample(X_train, y_train)"
   ]
  },
  {
   "cell_type": "code",
   "execution_count": 50,
   "id": "d9d57226",
   "metadata": {},
   "outputs": [
    {
     "name": "stdout",
     "output_type": "stream",
     "text": [
      "No     15154\n",
      "Yes    15154\n",
      "Name: HeartDisease, dtype: int64\n"
     ]
    }
   ],
   "source": [
    "# Convert y_train_resampled to a pandas Series (if it's not already)\n",
    "y_train_resampled_series = pd.Series(y_train_resampled)\n",
    "\n",
    "# Count the proportions of 'Yes' and 'No'\n",
    "proportions = y_train_resampled_series.value_counts()\n",
    "\n",
    "# Print the proportions\n",
    "print(proportions)"
   ]
  },
  {
   "cell_type": "code",
   "execution_count": 51,
   "id": "84c8568d",
   "metadata": {},
   "outputs": [],
   "source": [
    "model_performance = {}"
   ]
  },
  {
   "cell_type": "code",
   "execution_count": 52,
   "id": "829cb34d",
   "metadata": {},
   "outputs": [],
   "source": [
    "decision_tree_model = DecisionTreeClassifier(random_state=42)\n",
    "\n",
    "# Train the model on the resampled data\n",
    "decision_tree_model.fit(X_train_resampled, y_train_resampled)\n",
    "\n",
    "# Predict using the test set\n",
    "y_pred = decision_tree_model.predict(X_test)\n",
    "\n",
    "# Calculate performance metrics\n",
    "accuracy = accuracy_score(y_test, y_pred)\n",
    "precision = precision_score(y_test, y_pred, pos_label='Yes')\n",
    "recall = recall_score(y_test, y_pred, pos_label='Yes')\n",
    "f1 = f1_score(y_test, y_pred, pos_label='Yes')\n",
    "\n",
    "# Store the performance metrics in a dictionary\n",
    "model_performance['Decision Tree'] = {\n",
    "        'Accuracy': accuracy,\n",
    "        'Precision': precision,\n",
    "        'Recall': recall,\n",
    "        'F1 Score': f1\n",
    "    }\n"
   ]
  },
  {
   "cell_type": "code",
   "execution_count": 53,
   "id": "f2ea6f47",
   "metadata": {},
   "outputs": [
    {
     "name": "stdout",
     "output_type": "stream",
     "text": [
      "              precision    recall  f1-score   support\n",
      "\n",
      "          No       0.95      0.66      0.77     37476\n",
      "         Yes       0.16      0.63      0.25      3803\n",
      "\n",
      "    accuracy                           0.65     41279\n",
      "   macro avg       0.55      0.64      0.51     41279\n",
      "weighted avg       0.87      0.65      0.73     41279\n",
      "\n"
     ]
    }
   ],
   "source": [
    "# Method 1 of visualizing metrices\n",
    "from sklearn.metrics import classification_report\n",
    "\n",
    "print(classification_report(y_test, y_pred))\n"
   ]
  },
  {
   "cell_type": "code",
   "execution_count": 54,
   "id": "1f63d9de",
   "metadata": {},
   "outputs": [],
   "source": [
    "# Initialize Logistic Regression model\n",
    "model = LogisticRegression(max_iter=1000)\n",
    "\n",
    "# Train the model on the resampled data\n",
    "model.fit(X_train_resampled, y_train_resampled)\n",
    "\n",
    "# Make predictions on the test set\n",
    "y_pred = model.predict(X_test)\n",
    "\n",
    "# Calculate performance metrics\n",
    "accuracy = accuracy_score(y_test, y_pred)\n",
    "precision = precision_score(y_test, y_pred, pos_label='Yes')\n",
    "recall = recall_score(y_test, y_pred, pos_label='Yes')\n",
    "f1 = f1_score(y_test, y_pred, pos_label='Yes')\n",
    "\n",
    "# Store performance metrics in the model_performance dictionary\n",
    "model_performance['Random Forest'] = {\n",
    "        'Accuracy': accuracy,\n",
    "        'Precision': precision,\n",
    "        'Recall': recall,\n",
    "        'F1 Score': f1\n",
    "    }\n"
   ]
  },
  {
   "cell_type": "code",
   "execution_count": 55,
   "id": "66fa19c4",
   "metadata": {},
   "outputs": [],
   "source": [
    "# Initialize Random forest model\n",
    "model = RandomForestClassifier()\n",
    "\n",
    "model.fit(X_train, y_train)\n",
    "\n",
    "y_pred = model.predict(X_test)\n",
    "\n",
    "accuracy = accuracy_score(y_test, y_pred)\n",
    "precision = precision_score(y_test, y_pred, pos_label='Yes')\n",
    "recall = recall_score(y_test, y_pred, pos_label='Yes')\n",
    "f1 = f1_score(y_test, y_pred, pos_label='Yes')\n",
    "\n",
    "# Store performance metrics in the model_performance dictionary\n",
    "model_performance['Logistic Regression'] = {\n",
    "        'Accuracy': accuracy,\n",
    "        'Precision': precision,\n",
    "        'Recall': recall,\n",
    "        'F1 Score': f1\n",
    "    }\n"
   ]
  },
  {
   "cell_type": "code",
   "execution_count": 56,
   "id": "2b481dd4",
   "metadata": {},
   "outputs": [],
   "source": [
    "# Initialize Gradient Boosting model\n",
    "model = GradientBoostingClassifier()\n",
    "\n",
    "model.fit(X_train, y_train)\n",
    "\n",
    "y_pred = model.predict(X_test)\n",
    "\n",
    "accuracy = accuracy_score(y_test, y_pred)\n",
    "precision = precision_score(y_test, y_pred, pos_label='Yes')\n",
    "recall = recall_score(y_test, y_pred, pos_label='Yes')\n",
    "f1 = f1_score(y_test, y_pred, pos_label='Yes')\n",
    "\n",
    "# Store performance metrics in the model_performance dictionary\n",
    "model_performance['Gradient Boosting'] = {\n",
    "        'Accuracy': accuracy,\n",
    "        'Precision': precision,\n",
    "        'Recall': recall,\n",
    "        'F1 Score': f1\n",
    "    }\n"
   ]
  },
  {
   "cell_type": "code",
   "execution_count": 57,
   "id": "f4d067ff",
   "metadata": {},
   "outputs": [],
   "source": [
    "# Initialize neural network model!\n",
    "model = MLPClassifier(max_iter=1000)\n",
    "\n",
    "model.fit(X_train, y_train)\n",
    "\n",
    "y_pred = model.predict(X_test)\n",
    "\n",
    "accuracy = accuracy_score(y_test, y_pred)\n",
    "precision = precision_score(y_test, y_pred, pos_label='Yes')\n",
    "recall = recall_score(y_test, y_pred, pos_label='Yes')\n",
    "f1 = f1_score(y_test, y_pred, pos_label='Yes')\n",
    "\n",
    "# Store performance metrics in the model_performance dictionary\n",
    "model_performance['Neural Network'] = {\n",
    "        'Accuracy': accuracy,\n",
    "        'Precision': precision,\n",
    "        'Recall': recall,\n",
    "        'F1 Score': f1\n",
    "    }\n"
   ]
  },
  {
   "cell_type": "code",
   "execution_count": 58,
   "id": "44c1c177",
   "metadata": {},
   "outputs": [
    {
     "name": "stdout",
     "output_type": "stream",
     "text": [
      "Model: Decision Tree\n",
      "Accuracy: 0.6531165968167834\n",
      "Precision: 0.1565643370346179\n",
      "Recall: 0.6302918748356561\n",
      "F1 Score: 0.25082404646052425\n",
      "------------------------------\n",
      "Model: Random Forest\n",
      "Accuracy: 0.720802345018048\n",
      "Precision: 0.21895472412287087\n",
      "Recall: 0.790954509597686\n",
      "F1 Score: 0.3429679037683142\n",
      "------------------------------\n",
      "Model: Logistic Regression\n",
      "Accuracy: 0.886867414423799\n",
      "Precision: 0.24811156304474144\n",
      "Recall: 0.11227977912174598\n",
      "F1 Score: 0.15459811730629977\n",
      "------------------------------\n",
      "Model: Gradient Boosting\n",
      "Accuracy: 0.9085733666028731\n",
      "Precision: 0.5700483091787439\n",
      "Recall: 0.031028135682356035\n",
      "F1 Score: 0.05885286783042394\n",
      "------------------------------\n",
      "Model: Neural Network\n",
      "Accuracy: 0.907095617626396\n",
      "Precision: 0.4800498753117207\n",
      "Recall: 0.10123586642124638\n",
      "F1 Score: 0.16720955483170466\n",
      "------------------------------\n"
     ]
    }
   ],
   "source": [
    "for model_name, metrics in model_performance.items():\n",
    "    print(f'Model: {model_name}')\n",
    "    print(f'Accuracy: {metrics[\"Accuracy\"]}')\n",
    "    print(f'Precision: {metrics[\"Precision\"]}')\n",
    "    print(f'Recall: {metrics[\"Recall\"]}')\n",
    "    print(f'F1 Score: {metrics[\"F1 Score\"]}')\n",
    "    print('-' * 30)"
   ]
  },
  {
   "cell_type": "markdown",
   "id": "0ec5af22",
   "metadata": {},
   "source": [
    "CONcLUSION:"
   ]
  },
  {
   "cell_type": "markdown",
   "id": "fd7ae05a",
   "metadata": {},
   "source": [
    "Compared to model 1 most models are promising except for gradient boosting."
   ]
  },
  {
   "cell_type": "markdown",
   "id": "8eb64468",
   "metadata": {},
   "source": [
    "Most columns that were termed insignificant/not much weight were either dropped or shifted to the weighty side."
   ]
  },
  {
   "cell_type": "markdown",
   "id": "94a47df2",
   "metadata": {},
   "source": [
    "Climax not achieved but can be achieved."
   ]
  }
 ],
 "metadata": {
  "kernelspec": {
   "display_name": "Python 3 (ipykernel)",
   "language": "python",
   "name": "python3"
  },
  "language_info": {
   "codemirror_mode": {
    "name": "ipython",
    "version": 3
   },
   "file_extension": ".py",
   "mimetype": "text/x-python",
   "name": "python",
   "nbconvert_exporter": "python",
   "pygments_lexer": "ipython3",
   "version": "3.10.9"
  }
 },
 "nbformat": 4,
 "nbformat_minor": 5
}
